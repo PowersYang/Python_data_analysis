{
 "cells": [
  {
   "cell_type": "code",
   "execution_count": 1,
   "metadata": {},
   "outputs": [],
   "source": [
    "import numpy as np\n",
    "import matplotlib.pyplot as plt"
   ]
  },
  {
   "cell_type": "markdown",
   "metadata": {},
   "source": [
    "**matplotlib.pyplot.hist(x, bins=None, range=None, density=None, weights=None, cumulative=False, bottom=None, histtype='bar', align='mid', orientation='vertical', rwidth=None, log=False, color=None, label=None, stacked=False, normed=None, *, data=None, **kwargs)**\n",
    "\n",
    "主要参数：\n",
    "- x：数据集，最终的直方图将对数据集进行统计\n",
    "- bins：统计的区间分布\n",
    "- range：tuple, 显示的区间，测试发现添加range并没有达到想要的效果，即显示指定区间统计结果，如果有小伙伴知道，欢迎评论，谢谢\n",
    "- density：bool，默认为false，显示的是频数统计结果，为True则显示频率统计结果，这里需要注意，频率统计结果=区间数目/(总数*区间宽度)，和normed效果一致，官方推荐使用density\n",
    "- histtype：可选{'bar', 'barstacked', 'step', 'stepfilled'}之一，默认为bar，推荐使用默认配置，step使用的是梯状，stepfilled则会对梯状内部进行填充，效果与bar类似\n",
    "- align：可选{'left', 'mid', 'right'}之一，默认为'mid'，控制柱状图的水平分布，left或者right，会有部分空白区域，推荐使用默认\n",
    "- log：bool，默认False,即y坐标轴是否选择指数刻度\n",
    "- stacked：bool，默认为False，是否为堆积状图"
   ]
  },
  {
   "cell_type": "code",
   "execution_count": 10,
   "metadata": {},
   "outputs": [
    {
     "data": {
      "text/plain": [
       "(array([  3.,   1.,   5.,   2.,   6.,  10.,  14.,  19.,  35.,  44.,  59.,\n",
       "         98., 123., 147., 193., 241., 293., 322., 389., 437., 467., 572.,\n",
       "        601., 637., 578., 617., 595., 533., 503., 447., 377., 343., 274.,\n",
       "        221., 205., 161., 115.,  82.,  71.,  46.,  36.,  22.,  17.,  18.,\n",
       "          7.,   6.,   3.,   0.,   3.,   2.]),\n",
       " array([ 44.59331321,  46.86072347,  49.12813374,  51.395544  ,\n",
       "         53.66295427,  55.93036453,  58.1977748 ,  60.46518506,\n",
       "         62.73259533,  65.00000559,  67.26741586,  69.53482612,\n",
       "         71.80223639,  74.06964665,  76.33705692,  78.60446718,\n",
       "         80.87187745,  83.13928771,  85.40669798,  87.67410824,\n",
       "         89.94151851,  92.20892877,  94.47633904,  96.7437493 ,\n",
       "         99.01115957, 101.27856983, 103.54598009, 105.81339036,\n",
       "        108.08080062, 110.34821089, 112.61562115, 114.88303142,\n",
       "        117.15044168, 119.41785195, 121.68526221, 123.95267248,\n",
       "        126.22008274, 128.48749301, 130.75490327, 133.02231354,\n",
       "        135.2897238 , 137.55713407, 139.82454433, 142.0919546 ,\n",
       "        144.35936486, 146.62677513, 148.89418539, 151.16159566,\n",
       "        153.42900592, 155.69641619, 157.96382645]),\n",
       " <a list of 50 Patch objects>)"
      ]
     },
     "execution_count": 10,
     "metadata": {},
     "output_type": "execute_result"
    },
    {
     "data": {
      "image/png": "[encoded data removed]",
      "text/plain": [
       "<Figure size 432x288 with 1 Axes>"
      ]
     },
     "metadata": {
      "needs_background": "light"
     },
     "output_type": "display_data"
    }
   ],
   "source": [
    "mu, sigma = 100, 15\n",
    "x = mu + sigma * np.random.randn(10000)\n",
    "\n",
    "# the histogram of the data\n",
    "plt.hist(x, 50)\n",
    "\n",
    "plt.show()"
   ]
  },
  {
   "cell_type": "code",
   "execution_count": 11,
   "metadata": {},
   "outputs": [
    {
     "data": {
      "text/plain": [
       "(array([8.51513576e-05, 0.00000000e+00, 4.25756788e-05, 0.00000000e+00,\n",
       "        4.25756788e-05, 8.51513576e-05, 3.83181109e-04, 4.25756788e-04,\n",
       "        7.66362219e-04, 1.06439197e-03, 1.44757308e-03, 2.29908666e-03,\n",
       "        2.72484344e-03, 4.25756788e-03, 5.06650578e-03, 7.62104651e-03,\n",
       "        8.81316551e-03, 1.04736170e-02, 1.32836118e-02, 1.53272444e-02,\n",
       "        1.72857256e-02, 2.04363258e-02, 2.40978342e-02, 2.56305586e-02,\n",
       "        2.50344991e-02, 2.58008614e-02, 2.78444939e-02, 2.64820722e-02,\n",
       "        2.59285884e-02, 2.26928368e-02, 2.27354125e-02, 1.70302715e-02,\n",
       "        1.57530012e-02, 1.30281577e-02, 9.66467909e-03, 8.42998441e-03,\n",
       "        6.59923022e-03, 4.76847603e-03, 3.32090295e-03, 2.63969209e-03,\n",
       "        2.08620826e-03, 1.40499740e-03, 8.08937897e-04, 8.94089255e-04,\n",
       "        5.96059503e-04, 1.70302715e-04, 1.70302715e-04, 8.51513576e-05,\n",
       "        8.51513576e-05, 4.25756788e-05]),\n",
       " array([ 38.76597125,  41.11473005,  43.46348884,  45.81224764,\n",
       "         48.16100643,  50.50976522,  52.85852402,  55.20728281,\n",
       "         57.5560416 ,  59.9048004 ,  62.25355919,  64.60231798,\n",
       "         66.95107678,  69.29983557,  71.64859436,  73.99735316,\n",
       "         76.34611195,  78.69487074,  81.04362954,  83.39238833,\n",
       "         85.74114712,  88.08990592,  90.43866471,  92.7874235 ,\n",
       "         95.1361823 ,  97.48494109,  99.83369988, 102.18245868,\n",
       "        104.53121747, 106.87997626, 109.22873506, 111.57749385,\n",
       "        113.92625264, 116.27501144, 118.62377023, 120.97252902,\n",
       "        123.32128782, 125.67004661, 128.01880541, 130.3675642 ,\n",
       "        132.71632299, 135.06508179, 137.41384058, 139.76259937,\n",
       "        142.11135817, 144.46011696, 146.80887575, 149.15763455,\n",
       "        151.50639334, 153.85515213, 156.20391093]),\n",
       " <a list of 50 Patch objects>)"
      ]
     },
     "execution_count": 11,
     "metadata": {},
     "output_type": "execute_result"
    },
    {
     "data": {
      "text/plain": [
       "Text(0.5,0,'Smarts')"
      ]
     },
     "execution_count": 11,
     "metadata": {},
     "output_type": "execute_result"
    },
    {
     "data": {
      "text/plain": [
       "Text(0,0.5,'Probability')"
      ]
     },
     "execution_count": 11,
     "metadata": {},
     "output_type": "execute_result"
    },
    {
     "data": {
      "text/plain": [
       "Text(0.5,1,'Histogram of IQ')"
      ]
     },
     "execution_count": 11,
     "metadata": {},
     "output_type": "execute_result"
    },
    {
     "data": {
      "text/plain": [
       "Text(60,0.025,'$\\\\mu=100,\\\\ \\\\sigma=15$')"
      ]
     },
     "execution_count": 11,
     "metadata": {},
     "output_type": "execute_result"
    },
    {
     "data": {
      "text/plain": [
       "(40, 160)"
      ]
     },
     "execution_count": 11,
     "metadata": {},
     "output_type": "execute_result"
    },
    {
     "data": {
      "text/plain": [
       "(0, 0.03)"
      ]
     },
     "execution_count": 11,
     "metadata": {},
     "output_type": "execute_result"
    },
    {
     "data": {
      "image/png": "[encoded data removed]",
      "text/plain": [
       "<Figure size 432x288 with 1 Axes>"
      ]
     },
     "metadata": {
      "needs_background": "light"
     },
     "output_type": "display_data"
    }
   ],
   "source": [
    "mu, sigma = 100, 15\n",
    "x = mu + sigma * np.random.randn(10000)\n",
    "\n",
    "# the histogram of the data\n",
    "plt.hist(x, 50, density=True, facecolor='g', alpha=0.75)\n",
    "\n",
    "\n",
    "plt.xlabel('Smarts')\n",
    "plt.ylabel('Probability')\n",
    "plt.title('Histogram of IQ')\n",
    "plt.text(60, .025, r'$\\mu=100,\\ \\sigma=15$')\n",
    "plt.xlim(40, 160)\n",
    "plt.ylim(0, 0.03)\n",
    "plt.grid(True)\n",
    "plt.show()"
   ]
  }
 ],
 "metadata": {
  "kernelspec": {
   "display_name": "Python 3",
   "language": "python",
   "name": "python3"
  },
  "language_info": {
   "codemirror_mode": {
    "name": "ipython",
    "version": 3
   },
   "file_extension": ".py",
   "mimetype": "text/x-python",
   "name": "python",
   "nbconvert_exporter": "python",
   "pygments_lexer": "ipython3",
   "version": "3.7.0"
  }
 },
 "nbformat": 4,
 "nbformat_minor": 2
}
