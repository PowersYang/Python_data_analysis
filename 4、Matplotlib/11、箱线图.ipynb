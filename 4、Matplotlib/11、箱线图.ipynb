{
 "cells": [
  {
   "cell_type": "code",
   "execution_count": 2,
   "metadata": {},
   "outputs": [],
   "source": [
    "import numpy as np\n",
    "import matplotlib.pyplot as plt"
   ]
  },
  {
   "cell_type": "markdown",
   "metadata": {},
   "source": [
    "**matplotlib.pyplot.boxplot(x, notch=None, sym=None, vert=None, whis=None, positions=None, widths=None, patch_artist=None, bootstrap=None, usermedians=None, conf_intervals=None, meanline=None, showmeans=None, showcaps=None, showbox=None, showfliers=None, boxprops=None, labels=None, flierprops=None, medianprops=None, meanprops=None, capprops=None, whiskerprops=None, manage_ticks=True, autorange=False, zorder=None, *, data=None)**\n",
    "\n",
    "主要参数：\n",
    "\n",
    "- x：指定要绘制箱线图的数据\n",
    "- notch：是否是凹口的形式展现箱线图，默认非凹口\n",
    "- sym：指定异常点的形状，默认为+号显示\n",
    "- vert：是否需要将箱线图垂直摆放，默认垂直摆放\n",
    "- whis：指定上下须与上下四分位的距离，默认为1.5倍的四分位差\n",
    "- positions：指定箱线图的位置，默认为[0,1,2…]\n",
    "- widths：指定箱线图的宽度，默认为0.5\n",
    "- patch_artist：是否填充箱体的颜色\n",
    "- meanline：是否用线的形式表示均值，默认用点来表示\n",
    "- showmeans：是否显示均值，默认不显示\n",
    "- showcaps：是否显示箱线图顶端和末端的两条线，默认显示\n",
    "- showbox：是否显示箱线图的箱体，默认显示\n",
    "- showfliers：是否显示异常值，默认显示\n",
    "- boxprops：设置箱体的属性，如边框色，填充色等\n",
    "- labels：为箱线图添加标签，类似于图例的作用\n",
    "- filerprops：设置异常值的属性，如异常点的形状、大小、填充色等\n",
    "- medianprops：设置中位数的属性，如线的类型、粗细等\n",
    "- meanprops：设置均值的属性，如点的大小、颜色等\n",
    "- capprops：设置箱线图顶端和末端线条的属性，如颜色、粗细等\n",
    "- whiskerprops：设置须的属性，如颜色、粗细、线的类型等"
   ]
  },
  {
   "cell_type": "code",
   "execution_count": 4,
   "metadata": {},
   "outputs": [
    {
     "data": {
      "text/plain": [
       "{'whiskers': [<matplotlib.lines.Line2D at 0x10b8d7b70>,\n",
       "  <matplotlib.lines.Line2D at 0x11c629828>],\n",
       " 'caps': [<matplotlib.lines.Line2D at 0x11c629c50>,\n",
       "  <matplotlib.lines.Line2D at 0x11c629d30>],\n",
       " 'boxes': [<matplotlib.lines.Line2D at 0x11c6aae80>],\n",
       " 'medians': [<matplotlib.lines.Line2D at 0x11c6bc4e0>],\n",
       " 'fliers': [<matplotlib.lines.Line2D at 0x11c6bc908>],\n",
       " 'means': []}"
      ]
     },
     "execution_count": 4,
     "metadata": {},
     "output_type": "execute_result"
    },
    {
     "data": {
      "image/png": "[encoded data removed]",
      "text/plain": [
       "<Figure size 432x288 with 1 Axes>"
      ]
     },
     "metadata": {
      "needs_background": "light"
     },
     "output_type": "display_data"
    }
   ],
   "source": [
    "plt.boxplot(np.random.randn(100))\n",
    "plt.show()"
   ]
  },
  {
   "cell_type": "code",
   "execution_count": 5,
   "metadata": {},
   "outputs": [
    {
     "data": {
      "text/plain": [
       "Text(0.5,1,'Rectangular box plot')"
      ]
     },
     "execution_count": 5,
     "metadata": {},
     "output_type": "execute_result"
    },
    {
     "data": {
      "text/plain": [
       "Text(0.5,1,'Notched box plot')"
      ]
     },
     "execution_count": 5,
     "metadata": {},
     "output_type": "execute_result"
    },
    {
     "data": {
      "text/plain": [
       "Text(0.5,0,'Three separate samples')"
      ]
     },
     "execution_count": 5,
     "metadata": {},
     "output_type": "execute_result"
    },
    {
     "data": {
      "text/plain": [
       "Text(0,0.5,'Observed values')"
      ]
     },
     "execution_count": 5,
     "metadata": {},
     "output_type": "execute_result"
    },
    {
     "data": {
      "text/plain": [
       "Text(0.5,0,'Three separate samples')"
      ]
     },
     "execution_count": 5,
     "metadata": {},
     "output_type": "execute_result"
    },
    {
     "data": {
      "text/plain": [
       "Text(0,0.5,'Observed values')"
      ]
     },
     "execution_count": 5,
     "metadata": {},
     "output_type": "execute_result"
    },
    {
     "data": {
      "image/png": "[encoded data removed]",
      "text/plain": [
       "<Figure size 648x288 with 2 Axes>"
      ]
     },
     "metadata": {
      "needs_background": "light"
     },
     "output_type": "display_data"
    }
   ],
   "source": [
    "all_data = [np.random.normal(0, std, size=100) for std in range(1, 4)]\n",
    "labels = ['x1', 'x2', 'x3']\n",
    "\n",
    "fig, axes = plt.subplots(nrows=1, ncols=2, figsize=(9, 4))\n",
    "\n",
    "# rectangular box plot\n",
    "bplot1 = axes[0].boxplot(all_data,\n",
    "                         vert=True,  # vertical box alignment\n",
    "                         patch_artist=True,  # fill with color\n",
    "                         labels=labels)  # will be used to label x-ticks\n",
    "axes[0].set_title('Rectangular box plot')\n",
    "\n",
    "# notch shape box plot\n",
    "bplot2 = axes[1].boxplot(all_data,\n",
    "                         notch=True,  # notch shape\n",
    "                         vert=True,  # vertical box alignment\n",
    "                         patch_artist=True,  # fill with color\n",
    "                         labels=labels)  # will be used to label x-ticks\n",
    "axes[1].set_title('Notched box plot')\n",
    "\n",
    "# fill with colors\n",
    "colors = ['pink', 'lightblue', 'lightgreen']\n",
    "for bplot in (bplot1, bplot2):\n",
    "    for patch, color in zip(bplot['boxes'], colors):\n",
    "        patch.set_facecolor(color)\n",
    "\n",
    "# adding horizontal grid lines\n",
    "for ax in axes:\n",
    "    ax.yaxis.grid(True)\n",
    "    ax.set_xlabel('Three separate samples')\n",
    "    ax.set_ylabel('Observed values')\n",
    "\n",
    "plt.show()"
   ]
  }
 ],
 "metadata": {
  "kernelspec": {
   "display_name": "Python 3",
   "language": "python",
   "name": "python3"
  },
  "language_info": {
   "codemirror_mode": {
    "name": "ipython",
    "version": 3
   },
   "file_extension": ".py",
   "mimetype": "text/x-python",
   "name": "python",
   "nbconvert_exporter": "python",
   "pygments_lexer": "ipython3",
   "version": "3.7.0"
  }
 },
 "nbformat": 4,
 "nbformat_minor": 2
}
