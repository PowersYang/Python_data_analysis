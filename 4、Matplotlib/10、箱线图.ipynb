{
 "cells": [
  {
   "cell_type": "code",
   "execution_count": 1,
   "metadata": {},
   "outputs": [],
   "source": [
    "import numpy as np\n",
    "import pandas as pd"
   ]
  },
  {
   "cell_type": "markdown",
   "metadata": {},
   "source": [
    "**matplotlib.pyplot.boxplot(x, notch=None, sym=None, vert=None, whis=None, positions=None, widths=None, patch_artist=None, bootstrap=None, usermedians=None, conf_intervals=None, meanline=None, showmeans=None, showcaps=None, showbox=None, showfliers=None, boxprops=None, labels=None, flierprops=None, medianprops=None, meanprops=None, capprops=None, whiskerprops=None, manage_ticks=True, autorange=False, zorder=None, *, data=None)**\n",
    "\n",
    "主要参数：\n",
    "\n",
    "- x：指定要绘制箱线图的数据\n",
    "- notch：是否是凹口的形式展现箱线图，默认非凹口\n",
    "- sym：指定异常点的形状，默认为+号显示\n",
    "- vert：是否需要将箱线图垂直摆放，默认垂直摆放\n",
    "- whis：指定上下须与上下四分位的距离，默认为1.5倍的四分位差\n",
    "- positions：指定箱线图的位置，默认为[0,1,2…]\n",
    "- widths：指定箱线图的宽度，默认为0.5\n",
    "- patch_artist：是否填充箱体的颜色\n",
    "- meanline：是否用线的形式表示均值，默认用点来表示\n",
    "- showmeans：是否显示均值，默认不显示\n",
    "- showcaps：是否显示箱线图顶端和末端的两条线，默认显示\n",
    "- showbox：是否显示箱线图的箱体，默认显示\n",
    "- showfliers：是否显示异常值，默认显示\n",
    "- boxprops：设置箱体的属性，如边框色，填充色等\n",
    "- labels：为箱线图添加标签，类似于图例的作用\n",
    "- filerprops：设置异常值的属性，如异常点的形状、大小、填充色等\n",
    "- medianprops：设置中位数的属性，如线的类型、粗细等\n",
    "- meanprops：设置均值的属性，如点的大小、颜色等\n",
    "- capprops：设置箱线图顶端和末端线条的属性，如颜色、粗细等\n",
    "- whiskerprops：设置须的属性，如颜色、粗细、线的类型等"
   ]
  },
  {
   "cell_type": "code",
   "execution_count": null,
   "metadata": {},
   "outputs": [],
   "source": []
  }
 ],
 "metadata": {
  "kernelspec": {
   "display_name": "Python 3",
   "language": "python",
   "name": "python3"
  },
  "language_info": {
   "codemirror_mode": {
    "name": "ipython",
    "version": 3
   },
   "file_extension": ".py",
   "mimetype": "text/x-python",
   "name": "python",
   "nbconvert_exporter": "python",
   "pygments_lexer": "ipython3",
   "version": "3.7.0"
  }
 },
 "nbformat": 4,
 "nbformat_minor": 2
}
