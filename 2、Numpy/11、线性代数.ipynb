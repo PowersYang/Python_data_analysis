{
 "cells": [
  {
   "cell_type": "markdown",
   "metadata": {},
   "source": [
    "numpy.linalg模块中提供了一组处理线性代数的函数。使用这个模块可以计算逆矩阵、求特征值、解线性方程组以及求解行列式等\n",
    "\n",
    "**常用的函数**\n",
    "    <table border=\"1\" style=\"text-align:left;\">\n",
    "        <tr><th>函数</th><th style=\"width:50%; \">说明</th></tr>\n",
    "        <tr><td>diag</td><td>以一维数组的形式返回方阵的对角线（或非对角线）元素，或将一维数组转换为方阵（非对角线元素为0）</td></tr>\n",
    "        <tr><td>dot</td><td>矩阵乘法</td></tr>\n",
    "        <tr><td>trace</td><td>计算对角线元素的和</td></tr>\n",
    "        <tr><td>det</td><td>计算矩阵行列式</td></tr>\n",
    "        <tr><td>eig</td><td>计算方阵的本征值和本征向量</td></tr>\n",
    "        <tr><td>inv</td><td>计算方阵的逆</td></tr>\n",
    "        <tr><td>pinv</td><td>计算矩阵的Moore-Penrose伪逆</td></tr>\n",
    "        <tr><td>qr</td><td>计算QR分解</td></tr>\n",
    "        <tr><td>svd</td><td>计算奇异值分解</td></tr>\n",
    "        <tr><td>solve</td><td>解线性方程组Ax = b，其中A为一个方阵</td></tr>\n",
    "        <tr><td>lstsq</td><td>计算Ax = b的最小二乘解</td></tr>\n",
    "    </table>\n",
    "    \n",
    "https://www.numpy.org.cn/reference/routines/linalg.html"
   ]
  },
  {
   "cell_type": "code",
   "execution_count": null,
   "metadata": {},
   "outputs": [],
   "source": []
  }
 ],
 "metadata": {
  "kernelspec": {
   "display_name": "Python 3",
   "language": "python",
   "name": "python3"
  },
  "language_info": {
   "codemirror_mode": {
    "name": "ipython",
    "version": 3
   },
   "file_extension": ".py",
   "mimetype": "text/x-python",
   "name": "python",
   "nbconvert_exporter": "python",
   "pygments_lexer": "ipython3",
   "version": "3.7.3"
  }
 },
 "nbformat": 4,
 "nbformat_minor": 2
}
