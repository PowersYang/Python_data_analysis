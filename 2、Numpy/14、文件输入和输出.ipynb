{
 "cells": [
  {
   "cell_type": "markdown",
   "metadata": {},
   "source": [
    "**二进制文件**\n",
    "- load(file[, mmap_mode, allow_pickle, …])\n",
    "> 从.npy，.npz或pickle文件加载数组或pickle对象\n",
    "\n",
    "- save(file, arr[, allow_pickle, fix_imports])\n",
    "> 将数组保存为NumPy .npy格式的二进制文件\n",
    "\n",
    "- savez(file, *args, **kwds)\n",
    "> 将多个数组以未压缩的.npz格式保存到单个文件中\n",
    "\n",
    "- savez_compressed(file, *args, **kwds)\n",
    "> 将多个数组以压缩的.npz格式保存到单个文件中\n",
    "\n",
    "\n",
    "**文本文件**\n",
    "\n",
    "- loadtxt(fname[, dtype, comments, delimiter, …])\n",
    "> 从文本文件加载数据\n",
    "\n",
    "- savetxt(fname, X[, fmt, delimiter, newline, …])\n",
    "> 从文本文件加载数据\n",
    "\n",
    "- genfromtxt(fname[, dtype, comments, …])\n",
    "> 从文本文件加载数据，并按指定处理缺失值\n",
    "\n",
    "- fromregex(file, regexp, dtype[, encoding])\n",
    "> 使用来自文本文件构造数组\n",
    "\n"
   ]
  },
  {
   "cell_type": "code",
   "execution_count": 1,
   "metadata": {},
   "outputs": [
    {
     "data": {
      "text/plain": [
       "array([[ 0,  1,  2,  3],\n",
       "       [ 4,  5,  6,  7],\n",
       "       [ 8,  9, 10, 11]])"
      ]
     },
     "execution_count": 1,
     "metadata": {},
     "output_type": "execute_result"
    }
   ],
   "source": [
    "import numpy as np\n",
    "from io import BytesIO\n",
    "\n",
    "arr = np.arange(12).reshape(3, 4)\n",
    "arr"
   ]
  },
  {
   "cell_type": "code",
   "execution_count": 2,
   "metadata": {},
   "outputs": [],
   "source": [
    "np.save('file/io', arr)"
   ]
  },
  {
   "cell_type": "code",
   "execution_count": 3,
   "metadata": {},
   "outputs": [
    {
     "data": {
      "text/plain": [
       "array([[ 0,  1,  2,  3],\n",
       "       [ 4,  5,  6,  7],\n",
       "       [ 8,  9, 10, 11]])"
      ]
     },
     "execution_count": 3,
     "metadata": {},
     "output_type": "execute_result"
    }
   ],
   "source": [
    "np.load('file/io.npy')"
   ]
  },
  {
   "cell_type": "code",
   "execution_count": 4,
   "metadata": {},
   "outputs": [],
   "source": [
    "np.savetxt('file/io2', arr)"
   ]
  },
  {
   "cell_type": "code",
   "execution_count": 5,
   "metadata": {},
   "outputs": [],
   "source": [
    "np.savetxt('file/io2', arr, delimiter=',')"
   ]
  },
  {
   "cell_type": "code",
   "execution_count": 6,
   "metadata": {},
   "outputs": [
    {
     "data": {
      "text/plain": [
       "array([[ 0.,  1.,  2.,  3.],\n",
       "       [ 4.,  5.,  6.,  7.],\n",
       "       [ 8.,  9., 10., 11.]])"
      ]
     },
     "execution_count": 6,
     "metadata": {},
     "output_type": "execute_result"
    }
   ],
   "source": [
    "np.loadtxt('file/io2', delimiter=',')"
   ]
  }
 ],
 "metadata": {
  "kernelspec": {
   "display_name": "Python 3",
   "language": "python",
   "name": "python3"
  },
  "language_info": {
   "codemirror_mode": {
    "name": "ipython",
    "version": 3
   },
   "file_extension": ".py",
   "mimetype": "text/x-python",
   "name": "python",
   "nbconvert_exporter": "python",
   "pygments_lexer": "ipython3",
   "version": "3.7.0"
  }
 },
 "nbformat": 4,
 "nbformat_minor": 2
}
