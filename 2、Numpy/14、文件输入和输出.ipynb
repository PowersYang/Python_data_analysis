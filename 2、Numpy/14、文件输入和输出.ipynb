{
 "cells": [
  {
   "cell_type": "markdown",
   "metadata": {},
   "source": [
    "**二进制文件**\n",
    "- load(file[, mmap_mode, allow_pickle, …])\t从.npy，.npz或pickle文件加载数组或pickle对象。\n",
    "- save(file, arr[, allow_pickle, fix_imports])\t将数组保存为NumPy .npy格式的二进制文件。\n",
    "- savez(file, *args, **kwds)\t将多个数组以未压缩的.npz格式保存到单个文件中。\n",
    "- savez_compressed(file, *args, **kwds)\t将多个数组以压缩的.npz格式保存到单个文件中。\n",
    "\n",
    "\n",
    "**文本文件**\n",
    "\n",
    "- loadtxt(fname[, dtype, comments, delimiter, …])\t从文本文件加载数据。\n",
    "- savetxt(fname, X[, fmt, delimiter, newline, …])\t从文本文件加载数据。\n",
    "- genfromtxt(fname[, dtype, comments, …])\t从文本文件加载数据，并按指定处理缺失值。\n",
    "- fromregex(file, regexp, dtype[, encoding])\t使用来自文本文件构造数组\n",
    "\n"
   ]
  },
  {
   "cell_type": "code",
   "execution_count": 1,
   "metadata": {},
   "outputs": [
    {
     "ename": "AttributeError",
     "evalue": "module 'numpy' has no attribute 'loa'",
     "output_type": "error",
     "traceback": [
      "\u001b[0;31m---------------------------------------------------------------------------\u001b[0m",
      "\u001b[0;31mAttributeError\u001b[0m                            Traceback (most recent call last)",
      "\u001b[0;32m<ipython-input-1-6287fe11f1b8>\u001b[0m in \u001b[0;36m<module>\u001b[0;34m()\u001b[0m\n\u001b[1;32m      2\u001b[0m \u001b[0;32mfrom\u001b[0m \u001b[0mio\u001b[0m \u001b[0;32mimport\u001b[0m \u001b[0mBytesIO\u001b[0m\u001b[0;34m\u001b[0m\u001b[0m\n\u001b[1;32m      3\u001b[0m \u001b[0;34m\u001b[0m\u001b[0m\n\u001b[0;32m----> 4\u001b[0;31m \u001b[0mnp\u001b[0m\u001b[0;34m.\u001b[0m\u001b[0mloa\u001b[0m\u001b[0;34m\u001b[0m\u001b[0m\n\u001b[0m",
      "\u001b[0;31mAttributeError\u001b[0m: module 'numpy' has no attribute 'loa'"
     ]
    }
   ],
   "source": [
    "import numpy as np\n",
    "from io import BytesIO\n",
    "\n",
    "np.load()"
   ]
  },
  {
   "cell_type": "code",
   "execution_count": null,
   "metadata": {},
   "outputs": [],
   "source": []
  }
 ],
 "metadata": {
  "kernelspec": {
   "display_name": "Python 3",
   "language": "python",
   "name": "python3"
  },
  "language_info": {
   "codemirror_mode": {
    "name": "ipython",
    "version": 3
   },
   "file_extension": ".py",
   "mimetype": "text/x-python",
   "name": "python",
   "nbconvert_exporter": "python",
   "pygments_lexer": "ipython3",
   "version": "3.7.0"
  }
 },
 "nbformat": 4,
 "nbformat_minor": 2
}
