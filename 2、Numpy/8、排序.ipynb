{
 "cells": [
  {
   "cell_type": "markdown",
   "metadata": {},
   "source": [
    "**排序**\n",
    "- sort()\n",
    "    - arr.sort()会直接修改arr本身\n",
    "    - np.sort()返回一个排序后的副本，不修改原数组\n",
    "\n",
    "    参数说明:\n",
    "    > sort(axis=-1, kind='quicksort', order=None)\n",
    "    > \n",
    "    > axis：排序沿数组的（轴）方向，0表示按行，1表示按列，None表示展开来排序，默认值为-1，表示沿最后的轴排序\n",
    "    >\n",
    "    > kind：排序的算法，提供了快排'quicksort'、混排'mergesort'、堆排'heapsort'， 默认为‘quicksort'\n",
    "    >\n",
    "    > order：排序的字段名，可指定字段排序，默认为None\n",
    "\n",
    "- lexsort(keys[, axis])\t使用一系列键执行间接排序。\n",
    "- argsort(a[, axis, kind, order])\t返回对数组进行排序的索引。\n",
    "- ndarray.sort([axis, kind, order])\t就地对数组进行排序。\n",
    "- msort(a)\t返回沿第一个轴排序的数组副本。\n",
    "- sort_complex(a)\t首先使用实部对复杂数组进行排序，然后使用虚部进行排序。\n",
    "- partition(a, kth[, axis, kind, order])\t返回数组的分区副本。\n",
    "- argpartition(a, kth[, axis, kind, order])\t使用kind关键字指定的算法沿给定轴执行间接分区。\n"
   ]
  },
  {
   "cell_type": "code",
   "execution_count": 3,
   "metadata": {},
   "outputs": [
    {
     "data": {
      "text/plain": [
       "array([ 1.88127464,  0.0743766 ,  0.2329814 ,  0.73940387, -0.14720025,\n",
       "       -0.1894937 ,  1.54240596,  2.03836122, -0.5496149 ,  1.26693548])"
      ]
     },
     "execution_count": 3,
     "metadata": {},
     "output_type": "execute_result"
    }
   ],
   "source": [
    "import numpy as np\n",
    "\n",
    "arr1 = np.random.randn(10)\n",
    "arr1"
   ]
  },
  {
   "cell_type": "code",
   "execution_count": 5,
   "metadata": {},
   "outputs": [
    {
     "data": {
      "text/plain": [
       "array([-0.5496149 , -0.1894937 , -0.14720025,  0.0743766 ,  0.2329814 ,\n",
       "        0.73940387,  1.26693548,  1.54240596,  1.88127464,  2.03836122])"
      ]
     },
     "execution_count": 5,
     "metadata": {},
     "output_type": "execute_result"
    }
   ],
   "source": [
    "np.sort(arr1)"
   ]
  },
  {
   "cell_type": "code",
   "execution_count": 6,
   "metadata": {},
   "outputs": [
    {
     "data": {
      "text/plain": [
       "array([-0.5496149 , -0.1894937 , -0.14720025,  0.0743766 ,  0.2329814 ,\n",
       "        0.73940387,  1.26693548,  1.54240596,  1.88127464,  2.03836122])"
      ]
     },
     "execution_count": 6,
     "metadata": {},
     "output_type": "execute_result"
    }
   ],
   "source": [
    "arr1.sort()\n",
    "arr1"
   ]
  },
  {
   "cell_type": "markdown",
   "metadata": {},
   "source": [
    "多维数组排序"
   ]
  },
  {
   "cell_type": "code",
   "execution_count": 7,
   "metadata": {},
   "outputs": [
    {
     "data": {
      "text/plain": [
       "array([[-1.75004932,  0.171558  , -1.46631359,  0.23185265],\n",
       "       [-0.79028465, -0.54076154, -1.44156697,  0.10869921],\n",
       "       [-0.16732002, -1.46377183, -0.28347901, -1.2208518 ]])"
      ]
     },
     "execution_count": 7,
     "metadata": {},
     "output_type": "execute_result"
    }
   ],
   "source": [
    "arr2 = np.random.randn(3, 4)\n",
    "arr2"
   ]
  },
  {
   "cell_type": "code",
   "execution_count": 8,
   "metadata": {},
   "outputs": [
    {
     "data": {
      "text/plain": [
       "array([[-1.75004932, -1.46631359,  0.171558  ,  0.23185265],\n",
       "       [-1.44156697, -0.79028465, -0.54076154,  0.10869921],\n",
       "       [-1.46377183, -1.2208518 , -0.28347901, -0.16732002]])"
      ]
     },
     "execution_count": 8,
     "metadata": {},
     "output_type": "execute_result"
    }
   ],
   "source": [
    "np.sort(arr2, axis=1) # 按列排序，列不变行变"
   ]
  },
  {
   "cell_type": "code",
   "execution_count": 9,
   "metadata": {},
   "outputs": [
    {
     "data": {
      "text/plain": [
       "array([[-1.75004932, -1.46377183, -1.46631359, -1.2208518 ],\n",
       "       [-0.79028465, -0.54076154, -1.44156697,  0.10869921],\n",
       "       [-0.16732002,  0.171558  , -0.28347901,  0.23185265]])"
      ]
     },
     "execution_count": 9,
     "metadata": {},
     "output_type": "execute_result"
    }
   ],
   "source": [
    "np.sort(arr2, axis=0) # 按行排序，行不变列变"
   ]
  },
  {
   "cell_type": "code",
   "execution_count": 10,
   "metadata": {},
   "outputs": [
    {
     "data": {
      "text/plain": [
       "dtype([('name', 'S10'), ('age', '<i8')])"
      ]
     },
     "execution_count": 10,
     "metadata": {},
     "output_type": "execute_result"
    }
   ],
   "source": [
    "my_dt = np.dtype([('name',  'S10'),('age',  int)])\n",
    "my_dt"
   ]
  },
  {
   "cell_type": "code",
   "execution_count": 11,
   "metadata": {},
   "outputs": [
    {
     "data": {
      "text/plain": [
       "array([(b'Mike', 21), (b'Nancy', 25), (b'Bob', 17), (b'Jane', 27)],\n",
       "      dtype=[('name', 'S10'), ('age', '<i8')])"
      ]
     },
     "execution_count": 11,
     "metadata": {},
     "output_type": "execute_result"
    }
   ],
   "source": [
    "arr3 = np.array([(\"Mike\",21),(\"Nancy\",25),(\"Bob\",  17),  (\"Jane\",27)], dtype=my_dt)\n",
    "arr3"
   ]
  },
  {
   "cell_type": "code",
   "execution_count": 13,
   "metadata": {},
   "outputs": [
    {
     "data": {
      "text/plain": [
       "array([(b'Bob', 17), (b'Mike', 21), (b'Nancy', 25), (b'Jane', 27)],\n",
       "      dtype=[('name', 'S10'), ('age', '<i8')])"
      ]
     },
     "execution_count": 13,
     "metadata": {},
     "output_type": "execute_result"
    }
   ],
   "source": [
    "np.sort(arr3, order='age')"
   ]
  },
  {
   "cell_type": "code",
   "execution_count": null,
   "metadata": {},
   "outputs": [],
   "source": []
  }
 ],
 "metadata": {
  "kernelspec": {
   "display_name": "Python 3",
   "language": "python",
   "name": "python3"
  },
  "language_info": {
   "codemirror_mode": {
    "name": "ipython",
    "version": 3
   },
   "file_extension": ".py",
   "mimetype": "text/x-python",
   "name": "python",
   "nbconvert_exporter": "python",
   "pygments_lexer": "ipython3",
   "version": "3.7.0"
  }
 },
 "nbformat": 4,
 "nbformat_minor": 2
}
