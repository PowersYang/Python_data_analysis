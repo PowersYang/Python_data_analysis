{
 "cells": [
  {
   "cell_type": "markdown",
   "metadata": {},
   "source": [
    "**NumPy的ndarray**\n",
    "- n维的数组对象\n",
    "- 数组中所有元素的类型必须相同\n",
    "\n",
    "**创建方式**\n",
    "- np.array() 将输入的列表、元组、数组等序列类型转换我ndaray对象\n",
    "- np.asarray()\n",
    "- np.zeros() 根据指定形状创建一个全为0的ndarray对象\n",
    "- np.zeros_like() 传入一个数组作为参数，根据该数组的形状和dtype创建一个全0的ndaray对象\n",
    "- np.ones() 根据指定形状创建一个全为1的ndarray对象\n",
    "- np.ones_like() 传入一个数组作为参数，根据该数组的形状和dtype创建一个全1的ndaray对象\n",
    "- np.empty()根据指定形状创建ndarray对象，只分配内存但是不填充任何值\n",
    "- np.empty_like() 同上\n",
    "- np.full() 根据指定形状传建一个ndarray对象，并用fill_value的值进行填充           \n",
    "- np.full_like() 传入一个数组作为参数，根据该数组的形状创建一个ndarray对象，并用fill_value的值进行填充\n",
    "- np.eye() 传入一个整数N，创建一个N * N的单位矩阵   \n",
    "- np.identity() 传入一个整数N，创建一个N * N的单位矩阵\n",
    "- np.random 随机抽样创建"
   ]
  },
  {
   "cell_type": "code",
   "execution_count": null,
   "metadata": {},
   "outputs": [],
   "source": [
    "import numpy as np\n",
    "\n",
    "# data1也可以是tuple类型\n",
    "# data1可以进行嵌套\n",
    "data = [[1,2,3], [4,5,6]]\n",
    "arr1 = np.array(data)\n",
    "arr1"
   ]
  },
  {
   "cell_type": "code",
   "execution_count": null,
   "metadata": {},
   "outputs": [],
   "source": [
    "# array和asarray都可以将结构数据转化为ndarray\n",
    "# 但是主要区别就是当数据源是ndarray时，array仍然会copy出一个副本，占用新的内存，但asarray不会\n",
    "arr2 = np.asarray(arr1)\n",
    "arr2"
   ]
  },
  {
   "cell_type": "code",
   "execution_count": null,
   "metadata": {
    "scrolled": true
   },
   "outputs": [],
   "source": [
    "arr3 = np.zeros([3, 4])\n",
    "arr3"
   ]
  },
  {
   "cell_type": "code",
   "execution_count": null,
   "metadata": {},
   "outputs": [],
   "source": [
    "arr4 = np.zeros_like(data)\n",
    "arr4"
   ]
  },
  {
   "cell_type": "code",
   "execution_count": null,
   "metadata": {},
   "outputs": [],
   "source": [
    "arr5 = np.ones([2, 3])\n",
    "arr5"
   ]
  },
  {
   "cell_type": "code",
   "execution_count": null,
   "metadata": {},
   "outputs": [],
   "source": [
    "arr6 = np.ones_like(data)\n",
    "arr6"
   ]
  },
  {
   "cell_type": "code",
   "execution_count": null,
   "metadata": {},
   "outputs": [],
   "source": [
    "# 可以直接在终端中演示\n",
    "arr7 = np.empty([2, 2]) \n",
    "arr7"
   ]
  },
  {
   "cell_type": "code",
   "execution_count": null,
   "metadata": {},
   "outputs": [],
   "source": [
    "arr8 = np.empty_like(data)\n",
    "arr8"
   ]
  },
  {
   "cell_type": "code",
   "execution_count": null,
   "metadata": {},
   "outputs": [],
   "source": [
    "arr9 = np.full([2,3], fill_value=3)\n",
    "arr9"
   ]
  },
  {
   "cell_type": "code",
   "execution_count": null,
   "metadata": {},
   "outputs": [],
   "source": [
    "arr10 = np.full_like(data, 8)\n",
    "arr10"
   ]
  },
  {
   "cell_type": "code",
   "execution_count": null,
   "metadata": {},
   "outputs": [],
   "source": [
    "# numpy.identity(n, dtype=None)\n",
    "arr11 = np.identity(5)\n",
    "arr11"
   ]
  },
  {
   "cell_type": "code",
   "execution_count": null,
   "metadata": {},
   "outputs": [],
   "source": [
    "\"\"\"\n",
    "numpy.eye(N, M=None, k=0, dtype=<class‘float’>, order=’C’)\n",
    "N: 行数\n",
    "M：列数，默认等于N\n",
    "k：对角线索引：0（默认）为主对角线，正值是指上对角线，负值是指到下对角线\n",
    "order: {'C', 'F'}输出是否应存储在主要行（C样式）中或内存中的列主（Fortran样式）顺序\n",
    "\"\"\"\n",
    "arr12 = np.eye(5)\n",
    "arr12"
   ]
  },
  {
   "cell_type": "code",
   "execution_count": null,
   "metadata": {},
   "outputs": [],
   "source": [
    "arr13 = np.random.randn(2, 3)\n",
    "arr13"
   ]
  }
 ],
 "metadata": {
  "kernelspec": {
   "display_name": "Python 3",
   "language": "python",
   "name": "python3"
  },
  "language_info": {
   "codemirror_mode": {
    "name": "ipython",
    "version": 3
   },
   "file_extension": ".py",
   "mimetype": "text/x-python",
   "name": "python",
   "nbconvert_exporter": "python",
   "pygments_lexer": "ipython3",
   "version": "3.7.3"
  }
 },
 "nbformat": 4,
 "nbformat_minor": 2
}
