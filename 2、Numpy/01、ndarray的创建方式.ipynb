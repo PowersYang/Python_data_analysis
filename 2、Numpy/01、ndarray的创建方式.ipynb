{
 "cells": [
  {
   "cell_type": "markdown",
   "metadata": {},
   "source": [
    "**NumPy的ndarray**\n",
    "- n维的数组对象\n",
    "- 数组中所有元素的类型必须相同\n",
    "\n",
    "**创建方式**\n",
    "- np.array() \n",
    " - 将输入的列表、元组、数组等序列类型转换我ndaray对象\n",
    "- np.asarray() \n",
    " - array()和asarray()都可以将结构数据转化为ndarray，但是主要区别就是当数据源是ndarray时，array仍然会copy出一个副本，占用新的内存，但asarray不会\n",
    "- np.zeros() \n",
    " - 根据指定形状创建一个全为0的ndarray对象\n",
    "- np.zeros_like() \n",
    " - 传入一个数组作为参数，根据该数组的形状和dtype创建一个全0的ndaray对象\n",
    "- np.ones() \n",
    " - 根据指定形状创建一个全为1的ndarray对象\n",
    "- np.ones_like() \n",
    " - 传入一个数组作为参数，根据该数组的形状和dtype创建一个全1的ndaray对象\n",
    "- np.empty()\n",
    " - 根据指定形状创建ndarray对象，只分配内存但是不填充任何值\n",
    "- np.empty_like() \n",
    " - 同上\n",
    "- np.full() \n",
    " - 根据指定形状传建一个ndarray对象，并用fill_value的值进行填充           \n",
    "- np.full_like()  \n",
    " - 传入一个数组作为参数，根据该数组的形状创建一个ndarray对象，并用fill_value的值进行填充\n",
    "- np.eye() \n",
    " - 传入一个整数N，创建一个N * N的单位矩阵   \n",
    "- np.identity() \n",
    " - 传入一个整数N，创建一个N * N的单位矩阵\n",
    "- np.random \n",
    " - 随机抽样创建\n",
    "- np.arange() \n",
    " - 在给定间隔内返回均匀间隔的值（一位数组）\n",
    "- np.linspace() \n",
    " - 返回指定间隔内的等距数字。\n",
    "- np.fromfunction()\n",
    " - 通过对每个坐标执行函数来构造数组\n",
    "- np.fromfile()\n",
    " - 从文本或二进制文件中的数据构造数组"
   ]
  },
  {
   "cell_type": "code",
   "execution_count": 1,
   "metadata": {},
   "outputs": [
    {
     "data": {
      "text/plain": [
       "array([[1, 2, 3],\n",
       "       [4, 5, 6]])"
      ]
     },
     "execution_count": 1,
     "metadata": {},
     "output_type": "execute_result"
    }
   ],
   "source": [
    "import numpy as np\n",
    "\n",
    "# data1也可以是tuple类型\n",
    "# data1可以进行嵌套\n",
    "data = [[1,2,3], [4,5,6]]\n",
    "arr1 = np.array(data)\n",
    "arr1"
   ]
  },
  {
   "cell_type": "code",
   "execution_count": 2,
   "metadata": {},
   "outputs": [
    {
     "data": {
      "text/plain": [
       "array([[1, 2, 3],\n",
       "       [4, 5, 6]])"
      ]
     },
     "execution_count": 2,
     "metadata": {},
     "output_type": "execute_result"
    }
   ],
   "source": [
    "arr2 = np.asarray(arr1)\n",
    "arr2"
   ]
  },
  {
   "cell_type": "code",
   "execution_count": 3,
   "metadata": {
    "scrolled": true
   },
   "outputs": [
    {
     "data": {
      "text/plain": [
       "array([[0., 0., 0., 0.],\n",
       "       [0., 0., 0., 0.],\n",
       "       [0., 0., 0., 0.]])"
      ]
     },
     "execution_count": 3,
     "metadata": {},
     "output_type": "execute_result"
    }
   ],
   "source": [
    "arr3 = np.zeros([3, 4])\n",
    "arr3"
   ]
  },
  {
   "cell_type": "code",
   "execution_count": 4,
   "metadata": {},
   "outputs": [
    {
     "data": {
      "text/plain": [
       "array([[0, 0, 0],\n",
       "       [0, 0, 0]])"
      ]
     },
     "execution_count": 4,
     "metadata": {},
     "output_type": "execute_result"
    }
   ],
   "source": [
    "arr4 = np.zeros_like(data)\n",
    "arr4"
   ]
  },
  {
   "cell_type": "code",
   "execution_count": 5,
   "metadata": {},
   "outputs": [
    {
     "data": {
      "text/plain": [
       "array([[1., 1., 1.],\n",
       "       [1., 1., 1.]])"
      ]
     },
     "execution_count": 5,
     "metadata": {},
     "output_type": "execute_result"
    }
   ],
   "source": [
    "arr5 = np.ones([2, 3])\n",
    "arr5"
   ]
  },
  {
   "cell_type": "code",
   "execution_count": 6,
   "metadata": {},
   "outputs": [
    {
     "data": {
      "text/plain": [
       "array([[1, 1, 1],\n",
       "       [1, 1, 1]])"
      ]
     },
     "execution_count": 6,
     "metadata": {},
     "output_type": "execute_result"
    }
   ],
   "source": [
    "arr6 = np.ones_like(data)\n",
    "arr6"
   ]
  },
  {
   "cell_type": "code",
   "execution_count": 7,
   "metadata": {},
   "outputs": [
    {
     "data": {
      "text/plain": [
       "array([[2.18060794e-314, 2.18037569e-314],\n",
       "       [2.18060792e-314, 2.18045592e-314]])"
      ]
     },
     "execution_count": 7,
     "metadata": {},
     "output_type": "execute_result"
    }
   ],
   "source": [
    "# 可以直接在终端中演示\n",
    "arr7 = np.empty([2, 2]) \n",
    "arr7"
   ]
  },
  {
   "cell_type": "code",
   "execution_count": 8,
   "metadata": {},
   "outputs": [
    {
     "data": {
      "text/plain": [
       "array([[4607182418800017408, 4607182418800017408, 4607182418800017408],\n",
       "       [4607182418800017408, 4607182418800017408, 4607182418800017408]])"
      ]
     },
     "execution_count": 8,
     "metadata": {},
     "output_type": "execute_result"
    }
   ],
   "source": [
    "arr8 = np.empty_like(data)\n",
    "arr8"
   ]
  },
  {
   "cell_type": "code",
   "execution_count": 9,
   "metadata": {},
   "outputs": [
    {
     "data": {
      "text/plain": [
       "array([[3, 3, 3],\n",
       "       [3, 3, 3]])"
      ]
     },
     "execution_count": 9,
     "metadata": {},
     "output_type": "execute_result"
    }
   ],
   "source": [
    "arr9 = np.full([2,3], fill_value=3)\n",
    "arr9"
   ]
  },
  {
   "cell_type": "code",
   "execution_count": 10,
   "metadata": {},
   "outputs": [
    {
     "data": {
      "text/plain": [
       "array([[8, 8, 8],\n",
       "       [8, 8, 8]])"
      ]
     },
     "execution_count": 10,
     "metadata": {},
     "output_type": "execute_result"
    }
   ],
   "source": [
    "arr10 = np.full_like(data, 8)\n",
    "arr10"
   ]
  },
  {
   "cell_type": "code",
   "execution_count": 11,
   "metadata": {},
   "outputs": [
    {
     "data": {
      "text/plain": [
       "array([[1., 0., 0., 0., 0.],\n",
       "       [0., 1., 0., 0., 0.],\n",
       "       [0., 0., 1., 0., 0.],\n",
       "       [0., 0., 0., 1., 0.],\n",
       "       [0., 0., 0., 0., 1.]])"
      ]
     },
     "execution_count": 11,
     "metadata": {},
     "output_type": "execute_result"
    }
   ],
   "source": [
    "# numpy.identity(n, dtype=None)\n",
    "arr11 = np.identity(5)\n",
    "arr11"
   ]
  },
  {
   "cell_type": "code",
   "execution_count": 12,
   "metadata": {},
   "outputs": [
    {
     "data": {
      "text/plain": [
       "array([[1., 0., 0., 0., 0.],\n",
       "       [0., 1., 0., 0., 0.],\n",
       "       [0., 0., 1., 0., 0.],\n",
       "       [0., 0., 0., 1., 0.],\n",
       "       [0., 0., 0., 0., 1.]])"
      ]
     },
     "execution_count": 12,
     "metadata": {},
     "output_type": "execute_result"
    }
   ],
   "source": [
    "\"\"\"\n",
    "numpy.eye(N, M=None, k=0, dtype=<class‘float’>, order=’C’)\n",
    "N: 行数\n",
    "M：列数，默认等于N\n",
    "k：对角线索引：0（默认）为主对角线，正值是指上对角线，负值是指到下对角线\n",
    "order: {'C', 'F'}输出是否应存储在主要行（C样式）中或内存中的列主（Fortran样式）顺序\n",
    "\"\"\"\n",
    "arr12 = np.eye(5)\n",
    "arr12"
   ]
  },
  {
   "cell_type": "code",
   "execution_count": 13,
   "metadata": {},
   "outputs": [
    {
     "data": {
      "text/plain": [
       "array([[-1.1381773 ,  1.32714134, -0.05908729],\n",
       "       [-1.2037372 , -0.95742676,  1.2633915 ]])"
      ]
     },
     "execution_count": 13,
     "metadata": {},
     "output_type": "execute_result"
    }
   ],
   "source": [
    "arr13 = np.random.randn(2, 3)\n",
    "arr13"
   ]
  },
  {
   "cell_type": "code",
   "execution_count": 14,
   "metadata": {},
   "outputs": [
    {
     "data": {
      "text/plain": [
       "array([0, 2, 4, 6, 8])"
      ]
     },
     "execution_count": 14,
     "metadata": {},
     "output_type": "execute_result"
    }
   ],
   "source": [
    "\"\"\"\n",
    "参数\n",
    "start：开始位置，数字，可选，默认值为0\n",
    "stop：结束位置，数字，\n",
    "step：步长，数字，可选，默认为1。如果指定step则必须指定start\n",
    "dtype：类型。不指定则自动推断\n",
    "\"\"\"\n",
    "arr14 = np.arange(start=0, stop=10, step=2)\n",
    "arr14"
   ]
  },
  {
   "cell_type": "code",
   "execution_count": 15,
   "metadata": {},
   "outputs": [
    {
     "data": {
      "text/plain": [
       "array([ 0. ,  2.5,  5. ,  7.5, 10. ])"
      ]
     },
     "execution_count": 15,
     "metadata": {},
     "output_type": "execute_result"
    }
   ],
   "source": [
    "arr15 = np.linspace(0, 10, 5)\n",
    "arr15"
   ]
  },
  {
   "cell_type": "code",
   "execution_count": 16,
   "metadata": {},
   "outputs": [
    {
     "data": {
      "text/plain": [
       "array([[ 0,  1,  2,  3,  4],\n",
       "       [10, 11, 12, 13, 14],\n",
       "       [20, 21, 22, 23, 24],\n",
       "       [30, 31, 32, 33, 34]])"
      ]
     },
     "execution_count": 16,
     "metadata": {},
     "output_type": "execute_result"
    }
   ],
   "source": [
    "def fun(x, y):\n",
    "    return x * 10 + y\n",
    "\n",
    "np.fromfunction(fun, (4, 5), dtype=np.int)"
   ]
  },
  {
   "cell_type": "code",
   "execution_count": 17,
   "metadata": {},
   "outputs": [
    {
     "data": {
      "text/plain": [
       "array([0., 1., 2., 3.])"
      ]
     },
     "execution_count": 17,
     "metadata": {},
     "output_type": "execute_result"
    }
   ],
   "source": [
    "np.fromfunction(lambda i :i ,(4,))"
   ]
  },
  {
   "cell_type": "code",
   "execution_count": 18,
   "metadata": {},
   "outputs": [
    {
     "data": {
      "text/plain": [
       "array([[0., 1., 2.],\n",
       "       [1., 2., 3.]])"
      ]
     },
     "execution_count": 18,
     "metadata": {},
     "output_type": "execute_result"
    }
   ],
   "source": [
    "np.fromfunction(lambda i,j:i+j,(2, 3))"
   ]
  },
  {
   "cell_type": "code",
   "execution_count": 19,
   "metadata": {},
   "outputs": [
    {
     "ename": "SyntaxError",
     "evalue": "invalid character in identifier (<ipython-input-19-12c860256290>, line 1)",
     "output_type": "error",
     "traceback": [
      "\u001b[0;36m  File \u001b[0;32m\"<ipython-input-19-12c860256290>\"\u001b[0;36m, line \u001b[0;32m1\u001b[0m\n\u001b[0;31m    np.fromfunction(lambda i,j:i+j,(2, 3)）\u001b[0m\n\u001b[0m                                         ^\u001b[0m\n\u001b[0;31mSyntaxError\u001b[0m\u001b[0;31m:\u001b[0m invalid character in identifier\n"
     ]
    }
   ],
   "source": [
    "np.fromfunction(lambda i,j:i+j,(2, 3)）"
   ]
  },
  {
   "cell_type": "markdown",
   "metadata": {},
   "source": [
    "> np.fromfile(file, dtype=float, count=-1, sep='')\n",
    "- file：要打开的文件对象或者文件名\n",
    "- dtype：返回数组的数据类型。对于二进制文件，它用于确定文件中项目的大小和字节顺序。错误的数据类型会返回错误的数据\n",
    "- count：要读取的项目数。-1表示所有项目（即完整文件）\n",
    "- sep：如果文件是文本文件，则表示分隔项之间的分隔符。空（“”）分隔符表示应将文件视为二进制文件。分隔符中的空格（“”）与零个或多个空白字符匹配。仅由空格组成的分隔符必须至少与一个空格匹配"
   ]
  },
  {
   "cell_type": "code",
   "execution_count": null,
   "metadata": {},
   "outputs": [],
   "source": [
    "np.fromfile('./file/fromfile')"
   ]
  },
  {
   "cell_type": "code",
   "execution_count": null,
   "metadata": {},
   "outputs": [],
   "source": [
    "np.arange(12).tofile('./file/intfile')"
   ]
  },
  {
   "cell_type": "code",
   "execution_count": null,
   "metadata": {},
   "outputs": [],
   "source": [
    "np.fromfile('./file/intfile') # 默认的dtype是float"
   ]
  }
 ],
 "metadata": {
  "kernelspec": {
   "display_name": "Python 3",
   "language": "python",
   "name": "python3"
  },
  "language_info": {
   "codemirror_mode": {
    "name": "ipython",
    "version": 3
   },
   "file_extension": ".py",
   "mimetype": "text/x-python",
   "name": "python",
   "nbconvert_exporter": "python",
   "pygments_lexer": "ipython3",
   "version": "3.7.0"
  }
 },
 "nbformat": 4,
 "nbformat_minor": 2
}
