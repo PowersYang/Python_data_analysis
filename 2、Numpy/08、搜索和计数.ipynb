{
 "cells": [
  {
   "cell_type": "markdown",
   "metadata": {},
   "source": [
    "**搜索**\n",
    "- argmax(a[, axis, out])\t返回沿轴的最大值的索引。\n",
    "- nanargmax(a[, axis])\t返回指定轴上最大值的索引，忽略NAS。\n",
    "- argmin(a[, axis, out])\t返回沿轴的最小值的索引。\n",
    "- nanargmin(a[, axis])\t返回指定轴上的最小值的索引，忽略NAS。\n",
    "- argwhere(a)\t查找按元素分组的非零数组元素的索引。\n",
    "- nonzero(a)\t返回非零元素的索引。\n",
    "- flatnonzero(a)\t返回a的展平版本中非零的索引。\n",
    "- where(condition, [x, y])\t返回元素，可以是x或y，具体取决于条件。\n",
    "- searchsorted(a, v[, side, sorter])\t查找应插入元素以维护顺序的索引。\n",
    "- extract(condition, arr)\t返回满足某些条件的数组元素。\n",
    "\n",
    "**计数**\n",
    "- count_nonzero(a[, axis])\t计算数组a中的非零值的数量"
   ]
  },
  {
   "cell_type": "code",
   "execution_count": null,
   "metadata": {},
   "outputs": [],
   "source": []
  }
 ],
 "metadata": {
  "kernelspec": {
   "display_name": "Python 3",
   "language": "python",
   "name": "python3"
  },
  "language_info": {
   "codemirror_mode": {
    "name": "ipython",
    "version": 3
   },
   "file_extension": ".py",
   "mimetype": "text/x-python",
   "name": "python",
   "nbconvert_exporter": "python",
   "pygments_lexer": "ipython3",
   "version": "3.7.3"
  }
 },
 "nbformat": 4,
 "nbformat_minor": 2
}
