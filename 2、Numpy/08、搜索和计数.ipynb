{
 "cells": [
  {
   "cell_type": "markdown",
   "metadata": {},
   "source": [
    "**搜索**\n",
    "- argmax(a[, axis, out]) \n",
    "> 返回沿轴的最大值的索引\n",
    "\n",
    "- nanargmax(a[, axis]) \n",
    "> 返回指定轴上最大值的索引，忽略NAS\n",
    "\n",
    "- argmin(a[, axis, out]) \n",
    "> 返回沿轴的最小值的索引\n",
    "\n",
    "- nanargmin(a[, axis]) \n",
    "> 返回指定轴上的最小值的索引，忽略NAS\n",
    "\n",
    "- argwhere(a) \n",
    "> 查找按元素分组的非零数组元素的索引\n",
    "\n",
    "- nonzero(a) \n",
    "> 返回非零元素的索引\n",
    "\n",
    "- flatnonzero(a) \n",
    "> 返回a的展平版本中非零的索引\n",
    "\n",
    "- where(condition, [x, y]) \n",
    "> 返回元素，可以是x或y，具体取决于条件\n",
    "\n",
    "- searchsorted(a, v[, side, sorter]) \n",
    "> 查找应插入元素以维护顺序的索引\n",
    "\n",
    "- extract(condition, arr) \n",
    "> 返回满足某些条件的数组元素\n",
    "\n",
    "**计数**\n",
    "- count_nonzero(a[, axis]) \n",
    "> 计算数组a中的非零值的数量"
   ]
  },
  {
   "cell_type": "code",
   "execution_count": 1,
   "metadata": {},
   "outputs": [],
   "source": [
    "import numpy as np"
   ]
  },
  {
   "cell_type": "code",
   "execution_count": null,
   "metadata": {},
   "outputs": [],
   "source": []
  }
 ],
 "metadata": {
  "kernelspec": {
   "display_name": "Python 3",
   "language": "python",
   "name": "python3"
  },
  "language_info": {
   "codemirror_mode": {
    "name": "ipython",
    "version": 3
   },
   "file_extension": ".py",
   "mimetype": "text/x-python",
   "name": "python",
   "nbconvert_exporter": "python",
   "pygments_lexer": "ipython3",
   "version": "3.7.3"
  }
 },
 "nbformat": 4,
 "nbformat_minor": 2
}
