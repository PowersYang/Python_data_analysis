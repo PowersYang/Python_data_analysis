{
 "cells": [
  {
   "cell_type": "markdown",
   "metadata": {},
   "source": [
    "**NumPy的数据类型**\n",
    "- ndarray对象的dtype属性中描述了该对象的数据类型信息，返回一个dtype对象\n",
    "- 调用astype()会创建一个新对象，不会改变原对象\n",
    "- 所有的数据类型如下表所示：\n",
    "\n",
    "<table border=\"1\" style=\"text-align:left;\">\n",
    "<tr><th>数据类型</th><th>类型代码</th><th style=\"width:50%; \">说明</th></tr>\n",
    "<tr><td>int8、uint8</td><td>i1、u1</td><td>有符号和无符号的8位（1个字节）整形</td></tr>\n",
    "<tr><td>int16、uint16</td><td>i2、u2</td><td>有符号和无符号的16位（2个字节）整形</td></tr>\n",
    "<tr><td>int32、uint32</td><td>i4、u4</td><td>有符号和无符号的32位（4个字节）整形</td></tr>\n",
    "<tr><td>int64、uint64</td><td>i8、u8</td><td>有符号和无符号的64位（8个字节）整形</td></tr>\n",
    "<tr><td>float16</td><td>f2</td><td>半精度浮点数</td></tr>\n",
    "<tr><td>float32</td><td>f4或f</td><td>标准的单精度浮点数</td></tr>\n",
    "<tr><td>float64</td><td>f8或d</td><td>标准的双精度浮点数</td></tr>\n",
    "<tr><td>float128</td><td>f16或g</td><td>扩展精度浮点数</td></tr>\n",
    "<tr><td>bool</td><td>?</td><td>存储布尔类型（存储为一个字节）</td></tr>\n",
    "<tr><td>object</td><td>O</td><td>Python对象类型</td></tr>\n",
    "<tr><td>string_</td><td>S</td><td>固定长度的字符串类型（每个字符1个字节）</td></tr>\n",
    "<tr><td>unicode_</td><td>U</td><td>固定长度的unicode类型（字节数由平台决定）</td></tr>\n",
    "<tr><td>complex64、complex128、complex256</td><td>c8、c16、c32</td><td>分别用两个32位、64位或128位浮点数表示的复数</td></tr>\n",
    "</table>\n",
    "\n",
    "注意：`int_`为`int32`的简写，`float_`为`float64`的简写，`complex_`为`complex128`的简写"
   ]
  },
  {
   "cell_type": "code",
   "execution_count": 1,
   "metadata": {},
   "outputs": [
    {
     "data": {
      "text/plain": [
       "array([[0, 1, 2],\n",
       "       [3, 4, 5]])"
      ]
     },
     "execution_count": 1,
     "metadata": {},
     "output_type": "execute_result"
    }
   ],
   "source": [
    "import numpy as np\n",
    "\n",
    "int_arr = np.arange(6).reshape(2, 3)\n",
    "int_arr"
   ]
  },
  {
   "cell_type": "markdown",
   "metadata": {},
   "source": [
    "**可以通过dtype属性获得类型信息**"
   ]
  },
  {
   "cell_type": "code",
   "execution_count": 2,
   "metadata": {},
   "outputs": [
    {
     "data": {
      "text/plain": [
       "dtype('int64')"
      ]
     },
     "execution_count": 2,
     "metadata": {},
     "output_type": "execute_result"
    }
   ],
   "source": [
    "int_arr.dtype"
   ]
  },
  {
   "cell_type": "markdown",
   "metadata": {},
   "source": [
    "**创建指定numpy类型的标量**"
   ]
  },
  {
   "cell_type": "code",
   "execution_count": 3,
   "metadata": {},
   "outputs": [
    {
     "data": {
      "text/plain": [
       "array([ 12., 121.], dtype=float16)"
      ]
     },
     "execution_count": 3,
     "metadata": {},
     "output_type": "execute_result"
    }
   ],
   "source": [
    "var_float16 = np.float16([12, 121])\n",
    "var_float16"
   ]
  },
  {
   "cell_type": "code",
   "execution_count": 4,
   "metadata": {},
   "outputs": [
    {
     "data": {
      "text/plain": [
       "dtype('float16')"
      ]
     },
     "execution_count": 4,
     "metadata": {},
     "output_type": "execute_result"
    }
   ],
   "source": [
    "var_float16.dtype"
   ]
  },
  {
   "cell_type": "markdown",
   "metadata": {},
   "source": [
    "**可以通过astype()方法转换数据类型**"
   ]
  },
  {
   "cell_type": "code",
   "execution_count": 5,
   "metadata": {},
   "outputs": [
    {
     "data": {
      "text/plain": [
       "array([[0., 1., 2.],\n",
       "       [3., 4., 5.]], dtype=float32)"
      ]
     },
     "execution_count": 5,
     "metadata": {},
     "output_type": "execute_result"
    }
   ],
   "source": [
    "float_arr = int_arr.astype(np.float32) # 'f'等效于np.float32\n",
    "float_arr"
   ]
  },
  {
   "cell_type": "code",
   "execution_count": 6,
   "metadata": {},
   "outputs": [
    {
     "data": {
      "text/plain": [
       "array([1.2, 2.6, 3.5, 4.9, 5. ])"
      ]
     },
     "execution_count": 6,
     "metadata": {},
     "output_type": "execute_result"
    }
   ],
   "source": [
    "# 如果将浮点数转换成整数，小数部分会被直接删除\n",
    "float_arr2 = np.array([1.2, 2.6, 3.5, 4.9, 5.0])\n",
    "float_arr2"
   ]
  },
  {
   "cell_type": "code",
   "execution_count": 7,
   "metadata": {},
   "outputs": [
    {
     "data": {
      "text/plain": [
       "array([1, 2, 3, 4, 5])"
      ]
     },
     "execution_count": 7,
     "metadata": {},
     "output_type": "execute_result"
    }
   ],
   "source": [
    "float_arr2.astype('int')"
   ]
  },
  {
   "cell_type": "code",
   "execution_count": 8,
   "metadata": {},
   "outputs": [
    {
     "data": {
      "text/plain": [
       "array([b'2.001', b'1.25', b'88', b'-236.123', b'00'], dtype='|S8')"
      ]
     },
     "execution_count": 8,
     "metadata": {},
     "output_type": "execute_result"
    }
   ],
   "source": [
    "# 字符串也可以转为数字类型\n",
    "str_arr = np.array(['2.001', '1.25', '88', '-236.123', '00'], dtype=np.string_)\n",
    "str_arr"
   ]
  },
  {
   "cell_type": "code",
   "execution_count": 9,
   "metadata": {},
   "outputs": [
    {
     "data": {
      "text/plain": [
       "array([   2.001,    1.25 ,   88.   , -236.123,    0.   ])"
      ]
     },
     "execution_count": 9,
     "metadata": {},
     "output_type": "execute_result"
    }
   ],
   "source": [
    "str_arr.astype('float')"
   ]
  },
  {
   "cell_type": "markdown",
   "metadata": {},
   "source": [
    "**调用dtype的mro方法即可查看其所有的父类**"
   ]
  },
  {
   "cell_type": "code",
   "execution_count": 10,
   "metadata": {},
   "outputs": [
    {
     "data": {
      "text/plain": [
       "[numpy.int32,\n",
       " numpy.signedinteger,\n",
       " numpy.integer,\n",
       " numpy.number,\n",
       " numpy.generic,\n",
       " object]"
      ]
     },
     "execution_count": 10,
     "metadata": {},
     "output_type": "execute_result"
    }
   ],
   "source": [
    "np.int32.mro()"
   ]
  },
  {
   "cell_type": "markdown",
   "metadata": {},
   "source": [
    "**可以使用issubdtype()判断类型**"
   ]
  },
  {
   "cell_type": "code",
   "execution_count": 11,
   "metadata": {},
   "outputs": [
    {
     "data": {
      "text/plain": [
       "True"
      ]
     },
     "execution_count": 11,
     "metadata": {},
     "output_type": "execute_result"
    }
   ],
   "source": [
    "np.issubdtype(float_arr.dtype, np.floating)"
   ]
  },
  {
   "cell_type": "code",
   "execution_count": 12,
   "metadata": {},
   "outputs": [
    {
     "data": {
      "text/plain": [
       "False"
      ]
     },
     "execution_count": 12,
     "metadata": {},
     "output_type": "execute_result"
    }
   ],
   "source": [
    "np.issubdtype(np.int32, np.floating)"
   ]
  },
  {
   "cell_type": "markdown",
   "metadata": {},
   "source": [
    "**自定义类型**"
   ]
  },
  {
   "cell_type": "code",
   "execution_count": 13,
   "metadata": {},
   "outputs": [
    {
     "data": {
      "text/plain": [
       "dtype([('name', 'S10'), ('age', '<i8'), ('city', 'S10')])"
      ]
     },
     "execution_count": 13,
     "metadata": {},
     "output_type": "execute_result"
    }
   ],
   "source": [
    "my_dtype = np.dtype([('name',  'S10'), ('age',  int), ('city', 'S10')]) # 按关键字排序\n",
    "my_dtype"
   ]
  },
  {
   "cell_type": "code",
   "execution_count": 14,
   "metadata": {},
   "outputs": [
    {
     "data": {
      "text/plain": [
       "array([(b'zhangsan', 20, b'BJ'), (b'lisi', 22, b'CD'),\n",
       "       (b'wangwu', 21, b'SH')],\n",
       "      dtype=[('name', 'S10'), ('age', '<i8'), ('city', 'S10')])"
      ]
     },
     "execution_count": 14,
     "metadata": {},
     "output_type": "execute_result"
    }
   ],
   "source": [
    "temp_arr = [('zhangsan', 20, 'BJ'), ('lisi', 22, 'CD'), ('wangwu', 21, 'SH')]\n",
    "my_arr = np.array(temp_arr, dtype=my_dtype)\n",
    "my_arr"
   ]
  },
  {
   "cell_type": "code",
   "execution_count": 15,
   "metadata": {},
   "outputs": [
    {
     "data": {
      "text/plain": [
       "(b'lisi', 22, b'CD')"
      ]
     },
     "execution_count": 15,
     "metadata": {},
     "output_type": "execute_result"
    }
   ],
   "source": [
    "my_arr[1]"
   ]
  },
  {
   "cell_type": "code",
   "execution_count": 16,
   "metadata": {},
   "outputs": [
    {
     "data": {
      "text/plain": [
       "array([b'zhangsan', b'lisi', b'wangwu'], dtype='|S10')"
      ]
     },
     "execution_count": 16,
     "metadata": {},
     "output_type": "execute_result"
    }
   ],
   "source": [
    "my_arr['name']"
   ]
  }
 ],
 "metadata": {
  "kernelspec": {
   "display_name": "Python 3",
   "language": "python",
   "name": "python3"
  },
  "language_info": {
   "codemirror_mode": {
    "name": "ipython",
    "version": 3
   },
   "file_extension": ".py",
   "mimetype": "text/x-python",
   "name": "python",
   "nbconvert_exporter": "python",
   "pygments_lexer": "ipython3",
   "version": "3.7.0"
  }
 },
 "nbformat": 4,
 "nbformat_minor": 2
}
