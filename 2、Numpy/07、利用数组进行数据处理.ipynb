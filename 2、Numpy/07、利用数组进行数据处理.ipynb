{
 "cells": [
  {
   "cell_type": "markdown",
   "metadata": {},
   "source": [
    "**条件逻辑**"
   ]
  },
  {
   "cell_type": "code",
   "execution_count": null,
   "metadata": {},
   "outputs": [],
   "source": [
    "import numpy as np\n",
    "\n",
    "# np.where()\n",
    "arr1 = np.array([1, 2, 3, 4, 5])\n",
    "arr2 = np.array(['a', 'b', 'c', 'd', 'e'])\n",
    "cond = np.array([True, False, True, False, True])"
   ]
  },
  {
   "cell_type": "code",
   "execution_count": null,
   "metadata": {},
   "outputs": [],
   "source": [
    "result = np.where(cond, arr1, arr2)\n",
    "result"
   ]
  },
  {
   "cell_type": "code",
   "execution_count": null,
   "metadata": {},
   "outputs": [],
   "source": [
    "# 将arr1中大于3的全部变为-3\n",
    "np.where(arr1 > 3, -3, arr1)"
   ]
  },
  {
   "cell_type": "code",
   "execution_count": null,
   "metadata": {},
   "outputs": [],
   "source": [
    "# 将arr1中大于3的全部变为该值的相反数\n",
    "np.where(arr1 > 3, -arr1, arr1)"
   ]
  },
  {
   "cell_type": "markdown",
   "metadata": {},
   "source": [
    "**数学和统计方法**\n",
    "- 在这些方法中，布尔值中的True和False会被相应地转换为1和0参与计算\n",
    "<table border=\"1\" style=\"text-align:left;\">\n",
    "    <tr><th>函数</th><th>说明</th></tr>\n",
    "    <tr><td>sum</td><td>对数组中全部或某轴向的元素求和</td></tr>\n",
    "    <tr><td>mean</td><td>算术平均数。零长度数组的mean为NaN</td></tr>\n",
    "    <tr><td>std、var</td><td>分别为标准差和方差，自由度可调（默认为n）</td></tr>\n",
    "    <tr><td>min、max</td><td>最大值和最小值</td></tr>\n",
    "    <tr><td>argmin、argmax</td><td>分别为最大和最小元素的索引</td></tr>\n",
    "    <tr><td>cumsum</td><td>所有元素的累计和</td></tr>\n",
    "    <tr><td>cumprod</td><td>所有元素的累计积</td></tr>\n",
    "</table>"
   ]
  },
  {
   "cell_type": "code",
   "execution_count": null,
   "metadata": {},
   "outputs": [],
   "source": [
    "arr3 = np.arange(12).reshape(3, 4)\n",
    "arr3"
   ]
  },
  {
   "cell_type": "code",
   "execution_count": null,
   "metadata": {},
   "outputs": [],
   "source": [
    "arr3.sum() # 等效于np.sum(arr3)"
   ]
  },
  {
   "cell_type": "code",
   "execution_count": null,
   "metadata": {},
   "outputs": [],
   "source": [
    "arr.sum(axis=1) # 计算每一行的和"
   ]
  },
  {
   "cell_type": "code",
   "execution_count": null,
   "metadata": {},
   "outputs": [],
   "source": [
    "arr3.mean() # 等效于np.mean(arr3)"
   ]
  },
  {
   "cell_type": "code",
   "execution_count": null,
   "metadata": {},
   "outputs": [],
   "source": [
    "arr3.mean(axis=0) # 计算每一列的平均值"
   ]
  },
  {
   "cell_type": "markdown",
   "metadata": {},
   "source": [
    "布尔值True和False会被转为1和0参与计算"
   ]
  },
  {
   "cell_type": "code",
   "execution_count": null,
   "metadata": {},
   "outputs": [],
   "source": [
    "bool_arr = np.array([True, False, True, True, True, False, True])\n",
    "bool_arr.sum()"
   ]
  },
  {
   "cell_type": "code",
   "execution_count": null,
   "metadata": {},
   "outputs": [],
   "source": [
    "bool_arr.mean()"
   ]
  }
 ],
 "metadata": {
  "kernelspec": {
   "display_name": "Python 3",
   "language": "python",
   "name": "python3"
  },
  "language_info": {
   "codemirror_mode": {
    "name": "ipython",
    "version": 3
   },
   "file_extension": ".py",
   "mimetype": "text/x-python",
   "name": "python",
   "nbconvert_exporter": "python",
   "pygments_lexer": "ipython3",
   "version": "3.7.0"
  }
 },
 "nbformat": 4,
 "nbformat_minor": 2
}
