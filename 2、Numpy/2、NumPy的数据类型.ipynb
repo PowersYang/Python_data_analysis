{
 "cells": [
  {
   "cell_type": "markdown",
   "metadata": {},
   "source": [
    "**NumPy的数据类型**\n",
    "- ndarray对象的dtype属性中描述了该对象的数据类型信息，返回一个dtype对象\n",
    "- 调用astype()会创建一个新对象，不会改变原对象\n",
    "- 所有的数据类型如下表所示：\n",
    "\n",
    "<table border=\"1\" style=\"text-align:left;\">\n",
    "<tr><th>类型</th><th>类型代码</th><th style=\"width:50%; \">说明</th></tr>\n",
    "<tr><td>int8、uint8</td><td>i1、u1</td><td>有符号和无符号的8位（1个字节）整形</td></tr>\n",
    "<tr><td>int16、uint16</td><td>i2、u2</td><td>有符号和无符号的16位（2个字节）整形</td></tr>\n",
    "<tr><td>int32、uint32</td><td>i4、u4</td><td>有符号和无符号的32位（4个字节）整形</td></tr>\n",
    "<tr><td>int64、uint64</td><td>i8、u8</td><td>有符号和无符号的64位（8个字节）整形</td></tr>\n",
    "<tr><td>float16</td><td>f2</td><td>半精度浮点数</td></tr>\n",
    "<tr><td>float32</td><td>f4或f</td><td>标准的单精度浮点数</td></tr>\n",
    "<tr><td>float64</td><td>f8或d</td><td>标准的双精度浮点数</td></tr>\n",
    "<tr><td>float128</td><td>f16或g</td><td>扩展精度浮点数</td></tr>\n",
    "<tr><td>complex64、complex128、complex256</td><td>c8、c16、c32</td><td>分别用两个32位、64位或128位浮点数表示的复数</td></tr>\n",
    "<tr><td>bool</td><td>?</td><td>存储布尔类型</td></tr>\n",
    "<tr><td>object</td><td>O</td><td>Python对象类型</td></tr>\n",
    "<tr><td>string_</td><td>S</td><td>固定长度的字符串类型（每个字符1个字节）</td></tr>\n",
    "<tr><td>unicode_</td><td>U</td><td>固定长度的unicode类型（字节数由平台决定）</td></tr>\n",
    "</table>"
   ]
  },
  {
   "cell_type": "code",
   "execution_count": 1,
   "metadata": {},
   "outputs": [
    {
     "data": {
      "text/plain": [
       "array([[ 7, 24, 23],\n",
       "       [29,  6, 28]])"
      ]
     },
     "execution_count": 1,
     "metadata": {},
     "output_type": "execute_result"
    }
   ],
   "source": [
    "import numpy as np\n",
    "\n",
    "arr1 = np.random.randint(30, size=[2,3])\n",
    "arr1"
   ]
  },
  {
   "cell_type": "code",
   "execution_count": 2,
   "metadata": {},
   "outputs": [
    {
     "data": {
      "text/plain": [
       "dtype('int32')"
      ]
     },
     "execution_count": 2,
     "metadata": {},
     "output_type": "execute_result"
    }
   ],
   "source": [
    "# 可以通过dtype属性获得类型信息\n",
    "arr1.dtype"
   ]
  },
  {
   "cell_type": "code",
   "execution_count": 3,
   "metadata": {},
   "outputs": [
    {
     "data": {
      "text/plain": [
       "array([[ 7., 24., 23.],\n",
       "       [29.,  6., 28.]], dtype=float32)"
      ]
     },
     "execution_count": 3,
     "metadata": {},
     "output_type": "execute_result"
    }
   ],
   "source": [
    "# 可以通过astype()方法转换数据类型\n",
    "float_arr = arr1.astype('f')\n",
    "float_arr"
   ]
  },
  {
   "cell_type": "code",
   "execution_count": 4,
   "metadata": {},
   "outputs": [
    {
     "data": {
      "text/plain": [
       "array([1.2, 2.6, 3.5, 4.9, 5. ])"
      ]
     },
     "execution_count": 4,
     "metadata": {},
     "output_type": "execute_result"
    }
   ],
   "source": [
    "# 如果将浮点数转换成整数，小数部分会被直接删除\n",
    "arr2 = np.array([1.2, 2.6, 3.5, 4.9, 5.0])\n",
    "arr2"
   ]
  },
  {
   "cell_type": "code",
   "execution_count": 5,
   "metadata": {},
   "outputs": [
    {
     "data": {
      "text/plain": [
       "array([1, 2, 3, 4, 5])"
      ]
     },
     "execution_count": 5,
     "metadata": {},
     "output_type": "execute_result"
    }
   ],
   "source": [
    "arr2.astype('int')"
   ]
  },
  {
   "cell_type": "code",
   "execution_count": 6,
   "metadata": {},
   "outputs": [
    {
     "data": {
      "text/plain": [
       "array([b'1.25', b'-9.6', b'50'], dtype='|S4')"
      ]
     },
     "execution_count": 6,
     "metadata": {},
     "output_type": "execute_result"
    }
   ],
   "source": [
    "# 字符串也可以转为数字类型\n",
    "str_arr = np.array(['1.25', '-9.6', '50'], dtype=np.string_)\n",
    "str_arr"
   ]
  },
  {
   "cell_type": "code",
   "execution_count": 7,
   "metadata": {},
   "outputs": [
    {
     "data": {
      "text/plain": [
       "array([ 1.25, -9.6 , 50.  ])"
      ]
     },
     "execution_count": 7,
     "metadata": {},
     "output_type": "execute_result"
    }
   ],
   "source": [
    "str_arr.astype('float')"
   ]
  }
 ],
 "metadata": {
  "kernelspec": {
   "display_name": "Python 3",
   "language": "python",
   "name": "python3"
  },
  "language_info": {
   "codemirror_mode": {
    "name": "ipython",
    "version": 3
   },
   "file_extension": ".py",
   "mimetype": "text/x-python",
   "name": "python",
   "nbconvert_exporter": "python",
   "pygments_lexer": "ipython3",
   "version": "3.7.3"
  }
 },
 "nbformat": 4,
 "nbformat_minor": 2
}
