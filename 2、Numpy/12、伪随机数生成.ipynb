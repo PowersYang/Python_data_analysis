{
 "cells": [
  {
   "cell_type": "markdown",
   "metadata": {},
   "source": [
    "**伪随机数生成**\n",
    "\n",
    "numpy.random模块对Python内置的random进行了补充，增加了一些用于高效生成多种概率分布的样本值的函数\n",
    " \n",
    "之所以被称作**伪随机数**而不是**随机数**是因为它们都是通过算法基于随机数生成器种子在确定性的条件下生成的\n",
    " \n",
    "常用函数：\n",
    " \n",
    "- seed\n",
    "> 确定随机数生成器的种子\n",
    "\n",
    "- permutation\n",
    "> 返回一个序列的随机排列或返回一个随机排列的范围\n",
    "\n",
    "- shuffle\n",
    "> 对一个序列就地随机排列\n",
    "\n",
    "- rand\n",
    "> 产生均匀分布的样本值\n",
    "\n",
    "- randint\n",
    "> 从给定的上下限范围内选取随机整数\n",
    "\n",
    "- randn\n",
    "> 产生正态分布（平均值为0，标准差为1）的样本值，类似于MATLAB接口\n",
    "\n",
    "- binomial\n",
    "> 产生二项分布的样本值\n",
    "\n",
    "- normal\n",
    "> 产生正态（高斯）分布的样本值\n",
    "\n",
    "- beta\n",
    "> 产生Beta分布的样本值\n",
    "\n",
    "- chisquare\n",
    "> 产生卡方分布的样本值\n",
    "\n",
    "- gamma\n",
    "> 产生Gamma分布的样本值\n",
    "\n",
    "- uniform\n",
    "> 产生在[0, 1)中均匀分布的样本值"
   ]
  },
  {
   "cell_type": "code",
   "execution_count": 1,
   "metadata": {},
   "outputs": [],
   "source": [
    "import numpy as np"
   ]
  },
  {
   "cell_type": "code",
   "execution_count": null,
   "metadata": {},
   "outputs": [],
   "source": []
  }
 ],
 "metadata": {
  "kernelspec": {
   "display_name": "Python 3",
   "language": "python",
   "name": "python3"
  },
  "language_info": {
   "codemirror_mode": {
    "name": "ipython",
    "version": 3
   },
   "file_extension": ".py",
   "mimetype": "text/x-python",
   "name": "python",
   "nbconvert_exporter": "python",
   "pygments_lexer": "ipython3",
   "version": "3.7.0"
  }
 },
 "nbformat": 4,
 "nbformat_minor": 2
}
