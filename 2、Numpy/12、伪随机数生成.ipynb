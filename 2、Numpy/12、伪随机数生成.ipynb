{
 "cells": [
  {
   "cell_type": "markdown",
   "metadata": {},
   "source": [
    "**伪随机数生成**\n",
    "\n",
    "numpy.random模块对Python内置的random进行了补充，增加了一些用于高效生成多种概率分布的样本值的函数\n",
    " \n",
    "之所以被称作**伪随机数**而不是**随机数**是因为它们都是通过算法基于随机数生成器种子在确定性的条件下生成的\n",
    " \n",
    "常用函数：\n",
    "- rand\n",
    "> 产生指定形状的均匀分布的样本值\n",
    "\n",
    "- randint\n",
    "> 从给定的上下限范围内选取随机整数\n",
    "\n",
    "- randn\n",
    "> 产生正态分布（平均值为0，标准差为1）的样本值，类似于MATLAB接口\n",
    "\n",
    "- binomial\n",
    "> 产生二项分布的样本值\n",
    "\n",
    "- normal\n",
    "> 产生正态（高斯）分布的样本值\n",
    "\n",
    "- beta\n",
    "> 产生Beta分布的样本值\n",
    "\n",
    "- chisquare\n",
    "> 产生卡方分布的样本值\n",
    "\n",
    "- gamma\n",
    "> 产生Gamma分布的样本值\n",
    "\n",
    "- uniform\n",
    "> 产生在指定范围中均匀分布的样本值\n",
    "\n",
    "- seed\n",
    "> 确定随机数生成器的种子\n",
    "\n",
    "- permutation\n",
    "> 返回一个序列的随机排列或返回一个随机排列的范围\n",
    "\n",
    "- shuffle\n",
    "> 对一个序列就地随机排列"
   ]
  },
  {
   "cell_type": "code",
   "execution_count": 2,
   "metadata": {},
   "outputs": [],
   "source": [
    "import numpy as np"
   ]
  },
  {
   "cell_type": "code",
   "execution_count": 5,
   "metadata": {},
   "outputs": [
    {
     "data": {
      "text/plain": [
       "array([[0.93023109, 0.17793686, 0.3739059 , 0.73759741],\n",
       "       [0.51392393, 0.5606592 , 0.49850026, 0.53001582],\n",
       "       [0.56242578, 0.67480839, 0.69463322, 0.42441284]])"
      ]
     },
     "execution_count": 5,
     "metadata": {},
     "output_type": "execute_result"
    }
   ],
   "source": [
    "np.random.rand(3,4)"
   ]
  },
  {
   "cell_type": "code",
   "execution_count": 10,
   "metadata": {},
   "outputs": [
    {
     "data": {
      "text/plain": [
       "array([[4, 4, 3, 2],\n",
       "       [0, 4, 1, 2],\n",
       "       [2, 2, 4, 2]])"
      ]
     },
     "execution_count": 10,
     "metadata": {},
     "output_type": "execute_result"
    }
   ],
   "source": [
    "np.random.randint(5, size=(3, 4))"
   ]
  },
  {
   "cell_type": "code",
   "execution_count": 12,
   "metadata": {},
   "outputs": [
    {
     "data": {
      "text/plain": [
       "array([[-0.34236874, -0.94716307, -1.21049358,  0.01255568],\n",
       "       [ 0.56984804,  1.97438092, -0.4973953 ,  0.84604305]])"
      ]
     },
     "execution_count": 12,
     "metadata": {},
     "output_type": "execute_result"
    }
   ],
   "source": [
    "np.random.randn(2, 4)"
   ]
  },
  {
   "cell_type": "code",
   "execution_count": 16,
   "metadata": {},
   "outputs": [
    {
     "data": {
      "text/plain": [
       "array([-0.08932329,  0.01817674,  0.00793498, -0.03060253, -0.02696481,\n",
       "        0.17036727, -0.13925463,  0.04906463, -0.13930662,  0.00916422])"
      ]
     },
     "execution_count": 16,
     "metadata": {},
     "output_type": "execute_result"
    }
   ],
   "source": [
    "mu, sigma = 0, 0.1\n",
    "np.random.normal(mu, sigma, 10)"
   ]
  },
  {
   "cell_type": "code",
   "execution_count": 14,
   "metadata": {},
   "outputs": [
    {
     "data": {
      "text/plain": [
       "array([1.53412603, 1.8096795 , 1.78188288, 1.05134553, 1.63126135,\n",
       "       1.90795907, 1.62200019, 1.73266346, 1.45100388, 1.29412254,\n",
       "       1.81339203, 1.68801173, 1.124886  , 1.99962581, 1.86687226,\n",
       "       1.34066994, 1.46974542, 1.70760049, 1.12674486, 1.77617038,\n",
       "       1.80439419, 1.09866535, 1.1872679 , 1.33235866, 1.19382188,\n",
       "       1.87722476, 1.66247034, 1.72783597, 1.51543967, 1.28929872,\n",
       "       1.93352466, 1.81610282, 1.92993727, 1.6036413 , 1.17494641,\n",
       "       1.52622503, 1.28899068, 1.32272077, 1.74676876, 1.4993164 ,\n",
       "       1.98315504, 1.89662328, 1.63586567, 1.99777879, 1.02019997,\n",
       "       1.04366274, 1.0168409 , 1.69696495, 1.66682367, 1.45488264,\n",
       "       1.64808884, 1.13837531, 1.47795714, 1.11372238, 1.26539236,\n",
       "       1.84875625, 1.46207675, 1.91762453, 1.2450907 , 1.87141028,\n",
       "       1.81786682, 1.94363027, 1.74439957, 1.07051427, 1.14509273,\n",
       "       1.90760909, 1.30346103, 1.20948726, 1.46427728, 1.25031943,\n",
       "       1.02304082, 1.1514296 , 1.99118649, 1.85478132, 1.65622796,\n",
       "       1.36027115, 1.26135113, 1.16180693, 1.2667838 , 1.68935504,\n",
       "       1.96392042, 1.53528652, 1.02231156, 1.73855332, 1.82476464,\n",
       "       1.69588311, 1.08341234, 1.17541874, 1.11863557, 1.88145443,\n",
       "       1.50793317, 1.30998639, 1.18905481, 1.26645297, 1.48046853,\n",
       "       1.87439703, 1.57149696, 1.42342659, 1.36257356, 1.30388092])"
      ]
     },
     "execution_count": 14,
     "metadata": {},
     "output_type": "execute_result"
    }
   ],
   "source": [
    "# 生成指定范围的样本值\n",
    "np.random.uniform(1, 2, 100)"
   ]
  },
  {
   "cell_type": "code",
   "execution_count": null,
   "metadata": {},
   "outputs": [],
   "source": []
  }
 ],
 "metadata": {
  "kernelspec": {
   "display_name": "Python 3",
   "language": "python",
   "name": "python3"
  },
  "language_info": {
   "codemirror_mode": {
    "name": "ipython",
    "version": 3
   },
   "file_extension": ".py",
   "mimetype": "text/x-python",
   "name": "python",
   "nbconvert_exporter": "python",
   "pygments_lexer": "ipython3",
   "version": "3.7.0"
  }
 },
 "nbformat": 4,
 "nbformat_minor": 2
}
