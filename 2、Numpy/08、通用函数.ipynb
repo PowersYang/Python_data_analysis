{
 "cells": [
  {
   "cell_type": "markdown",
   "metadata": {},
   "source": [
    "**通用函数**\n",
    "- 通用函数（或简称为ufunc）是一种以元素为单位对ndarray进行操作的函数，支持数组广播，类型转换和其他一些标准特性。 也就是说，ufunc是一个函数的“矢量化”包装器，它接受固定数量的特定输入并产生固定数量的特定输出\n",
    "\n",
    "\n",
    "- 在NumPy中，通用函数是numpy.ufunc类的实例 \n",
    "\n",
    "- https://docs.scipy.org/doc/numpy/reference/ufuncs.html\n",
    "\n",
    "- 一元ufunc\n",
    "<table border=\"1\" style=\"text-align:left;\">\n",
    "    <tr><th>函数</th><th>说明</th></tr>\n",
    "    <tr><td>abs、fabs</td><td>计算整数、浮点数或复数的绝对值。对于非复数值，可以使用更快的fabs</td></tr>\n",
    "    <tr><td>sqrt</td><td>计算各元素的平方根。相当于arr ** 0.5</td></tr>\n",
    "    <tr><td>square</td><td>计算各元素的平方。相当于arr ** 2</td></tr>\n",
    "    <tr><td>exp</td><td>计算各元素的指数。相当于e的x次方</td></tr>\n",
    "    <tr><td>log、log10、log2、log1p</td><td>分别对应自然对数（底数为e）、底数为10的log、底数为2的log、log(1 + p)</td></tr>\n",
    "    <tr><td>sign</td><td>计算各元素的正负号：1（正数）、0（零）、-1（负数）</td></tr>\n",
    "    <tr><td>ceil</td><td>计算各元素的ceiling值，即大于等于该值的最小整数</td></tr>\n",
    "    <tr><td>floor</td><td>计算各元素的floor值。即小于等于该值的最大整数</td></tr>\n",
    "    <tr><td>rint</td><td>将各元素值四舍五入到最接近的整数，保留dtype</td></tr>\n",
    "    <tr><td>modf</td><td>将数组的小数和整数部分以两个独立数组的形式返回</td><tr>    \n",
    "    <tr><td>isnan</td><td>返回一个表示“哪些值是NaN”的布尔型数组</td><tr>\n",
    "    <tr><td>isfinite、isinf</td><td>分别返回一个表示“哪些元素是有穷的（非inf，非NaN）”或“哪些元素是无穷的”的布尔型数组</td><tr>\n",
    "    <tr><td>cos、cosh、sin、sinh、tan、tanh</td><td>普通型和双曲型三角函数</td></tr>\n",
    "    <tr><td>arccos、arccosh、arcsin、arcsinh、arctan、arctanh</td><td>反三角函数</td></tr>\n",
    "    <tr><td>logical_not</td><td>计算个元素的not x的真值。相当于-arr</td></tr>\n",
    "</table>\n",
    "\n",
    "\n",
    "- 二元ufunc\n",
    "<table border=\"1\" style=\"text-align:left;\">\n",
    "    <tr><th>函数</th><th>说明</th></tr>\n",
    "    <tr><td>add</td><td>将数组中对应的元素相加</td></tr>\n",
    "    <tr><td>subtract</td><td>从第一个数组中减去第二个数组中的元素</td></tr>\n",
    "    <tr><td>multiply</td><td>将数组元素相乘</td></tr>\n",
    "    <tr><td>divide、floor_divide</td><td>除法或向下取整除法（丢弃余数）</td></tr>\n",
    "    <tr><td>power</td><td>对第一个数组中的元素A，根据第二个数组中的相应元素B，计算A的B次方</td></tr>\n",
    "    <tr><td>maximum、fmax</td><td>元素级的最大值计算。fmax将忽略NaN</td></tr>\n",
    "    <tr><td>minimum、fmin</td><td>元素级的最小值计算。fmin将忽略NaN</td></tr>\n",
    "    <tr><td>mod</td><td>元素级别的求模计算（除法的余数）</td></tr>\n",
    "    <tr><td>copysign</td><td>将第二个数组中的值得符号复制给第一个数组中的值</td></tr>\n",
    "    <tr><td>greater、greater_equal、less、less_equal、equal、not_equal、</td><td>执行元素级的比较运算，最终产生布尔数组。相当于中缀运算符号>、>=、<、<=、==、!=</td><tr>    \n",
    "    <tr><td>logical_and、logical_or、logical_xor</td><td>执行元素级的真值逻辑运算。相当于中缀运算符&、| 、^</td><tr>\n",
    "</table>\n"
   ]
  },
  {
   "cell_type": "code",
   "execution_count": 1,
   "metadata": {},
   "outputs": [
    {
     "data": {
      "text/plain": [
       "array([ 2.06071314, -0.02325376,  0.34784075, -0.92764143, -0.37922931,\n",
       "       -1.22737788, -1.54119057,  0.03776073,  0.47776534, -0.33724855])"
      ]
     },
     "execution_count": 1,
     "metadata": {},
     "output_type": "execute_result"
    }
   ],
   "source": [
    "import numpy as np\n",
    "\n",
    "arr1 = np.array([ 2.06071314, -0.02325376,  0.34784075, -0.92764143, -0.37922931,\n",
    "       -1.22737788, -1.54119057,  0.03776073,  0.47776534, -0.33724855])\n",
    "arr1"
   ]
  },
  {
   "cell_type": "code",
   "execution_count": 2,
   "metadata": {},
   "outputs": [
    {
     "data": {
      "text/plain": [
       "array([2.06071314, 0.02325376, 0.34784075, 0.92764143, 0.37922931,\n",
       "       1.22737788, 1.54119057, 0.03776073, 0.47776534, 0.33724855])"
      ]
     },
     "execution_count": 2,
     "metadata": {},
     "output_type": "execute_result"
    }
   ],
   "source": [
    "np.abs(arr1)"
   ]
  },
  {
   "cell_type": "code",
   "execution_count": 3,
   "metadata": {},
   "outputs": [
    {
     "data": {
      "text/plain": [
       "array([2., 3., 4., 5.])"
      ]
     },
     "execution_count": 3,
     "metadata": {},
     "output_type": "execute_result"
    }
   ],
   "source": [
    "arr2 = np.array([4, 9, 16, 25])\n",
    "np.sqrt(arr2)"
   ]
  },
  {
   "cell_type": "code",
   "execution_count": 4,
   "metadata": {},
   "outputs": [
    {
     "data": {
      "text/plain": [
       "array([ 1., -1.,  1., -1., -1., -1., -1.,  1.,  1., -1.])"
      ]
     },
     "execution_count": 4,
     "metadata": {},
     "output_type": "execute_result"
    }
   ],
   "source": [
    "np.sign(arr1) # 正负号"
   ]
  },
  {
   "cell_type": "code",
   "execution_count": 5,
   "metadata": {},
   "outputs": [
    {
     "data": {
      "text/plain": [
       "array([False, False, False,  True, False,  True])"
      ]
     },
     "execution_count": 5,
     "metadata": {},
     "output_type": "execute_result"
    }
   ],
   "source": [
    "arr3 = np.array([1, 2, 3, np.NaN, 4, np.NaN])\n",
    "np.isnan(arr3)"
   ]
  },
  {
   "cell_type": "code",
   "execution_count": 6,
   "metadata": {},
   "outputs": [
    {
     "data": {
      "text/plain": [
       "array([5, 7, 9])"
      ]
     },
     "execution_count": 6,
     "metadata": {},
     "output_type": "execute_result"
    }
   ],
   "source": [
    "arr4 = np.array([1, 2, 3])\n",
    "arr5 = np.array([4, 5, 6])\n",
    "np.add(arr4, arr5)"
   ]
  },
  {
   "cell_type": "code",
   "execution_count": 7,
   "metadata": {},
   "outputs": [
    {
     "data": {
      "text/plain": [
       "array([1, 0, 1, 1])"
      ]
     },
     "execution_count": 7,
     "metadata": {},
     "output_type": "execute_result"
    }
   ],
   "source": [
    "np.mod(arr2, 3) # 求模"
   ]
  }
 ],
 "metadata": {
  "kernelspec": {
   "display_name": "Python 3",
   "language": "python",
   "name": "python3"
  },
  "language_info": {
   "codemirror_mode": {
    "name": "ipython",
    "version": 3
   },
   "file_extension": ".py",
   "mimetype": "text/x-python",
   "name": "python",
   "nbconvert_exporter": "python",
   "pygments_lexer": "ipython3",
   "version": "3.7.0"
  }
 },
 "nbformat": 4,
 "nbformat_minor": 4
}
