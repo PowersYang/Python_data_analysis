{
 "cells": [
  {
   "cell_type": "markdown",
   "metadata": {},
   "source": [
    "**排序**\n",
    "- sort(a[, axis, kind, order]) \n",
    "> 返回数组的排序副本\n",
    "\n",
    "- ndarray.sort([axis, kind, order]) \n",
    "> 就地对数组进行排序\n",
    "\n",
    "- lexsort(keys[, axis]) \n",
    "> 使用一系列键执行间接排序\n",
    "\n",
    "- argsort(a[, axis, kind, order]) \n",
    "> 返回对数组进行排序的索引\n",
    "\n",
    "- msort(a) \n",
    "> 返回沿第一个轴排序的数组副本\n",
    "\n",
    "- sort_complex(a) \n",
    "> 首先使用实部对复杂数组进行排序，然后使用虚部进行排序\n",
    "\n",
    "- partition(a, kth[, axis, kind, order]) \n",
    "> 返回数组的分区副本\n",
    "\n",
    "- argpartition(a, kth[, axis, kind, order]) \n",
    "> 使用kind关键字指定的算法沿给定轴执行间接分区"
   ]
  },
  {
   "cell_type": "code",
   "execution_count": 1,
   "metadata": {},
   "outputs": [
    {
     "data": {
      "text/plain": [
       "array([-0.48222165, -2.30739386,  1.95941485,  1.08119545, -0.69638443,\n",
       "        0.04028632,  0.75619607,  0.5155348 , -0.5422673 , -1.75394304])"
      ]
     },
     "execution_count": 1,
     "metadata": {},
     "output_type": "execute_result"
    }
   ],
   "source": [
    "import numpy as np\n",
    "\n",
    "arr1 = np.random.randn(10)\n",
    "arr1"
   ]
  },
  {
   "cell_type": "code",
   "execution_count": 2,
   "metadata": {},
   "outputs": [
    {
     "data": {
      "text/plain": [
       "array([-2.30739386, -1.75394304, -0.69638443, -0.5422673 , -0.48222165,\n",
       "        0.04028632,  0.5155348 ,  0.75619607,  1.08119545,  1.95941485])"
      ]
     },
     "execution_count": 2,
     "metadata": {},
     "output_type": "execute_result"
    }
   ],
   "source": [
    "np.sort(arr1)"
   ]
  },
  {
   "cell_type": "code",
   "execution_count": 3,
   "metadata": {},
   "outputs": [
    {
     "data": {
      "text/plain": [
       "array([-2.30739386, -1.75394304, -0.69638443, -0.5422673 , -0.48222165,\n",
       "        0.04028632,  0.5155348 ,  0.75619607,  1.08119545,  1.95941485])"
      ]
     },
     "execution_count": 3,
     "metadata": {},
     "output_type": "execute_result"
    }
   ],
   "source": [
    "arr1.sort() # 就地进行排序，修改原数组\n",
    "arr1"
   ]
  },
  {
   "cell_type": "markdown",
   "metadata": {},
   "source": [
    "多维数组排序"
   ]
  },
  {
   "cell_type": "code",
   "execution_count": 4,
   "metadata": {},
   "outputs": [
    {
     "data": {
      "text/plain": [
       "array([[-1.77090915, -1.15811429,  0.13914458,  1.59447232],\n",
       "       [-0.31931722, -0.35300998, -0.07051389, -0.46588781],\n",
       "       [ 0.07961398, -2.07008481,  0.53152986, -1.18861229]])"
      ]
     },
     "execution_count": 4,
     "metadata": {},
     "output_type": "execute_result"
    }
   ],
   "source": [
    "arr2 = np.random.randn(3, 4)\n",
    "arr2"
   ]
  },
  {
   "cell_type": "code",
   "execution_count": 5,
   "metadata": {},
   "outputs": [
    {
     "data": {
      "text/plain": [
       "array([[-1.77090915, -1.15811429,  0.13914458,  1.59447232],\n",
       "       [-0.46588781, -0.35300998, -0.31931722, -0.07051389],\n",
       "       [-2.07008481, -1.18861229,  0.07961398,  0.53152986]])"
      ]
     },
     "execution_count": 5,
     "metadata": {},
     "output_type": "execute_result"
    }
   ],
   "source": [
    "np.sort(arr2, axis=1) # 按列排序"
   ]
  },
  {
   "cell_type": "code",
   "execution_count": 6,
   "metadata": {},
   "outputs": [
    {
     "data": {
      "text/plain": [
       "array([[-1.77090915, -2.07008481, -0.07051389, -1.18861229],\n",
       "       [-0.31931722, -1.15811429,  0.13914458, -0.46588781],\n",
       "       [ 0.07961398, -0.35300998,  0.53152986,  1.59447232]])"
      ]
     },
     "execution_count": 6,
     "metadata": {},
     "output_type": "execute_result"
    }
   ],
   "source": [
    "np.sort(arr2, axis=0) # 按行排序"
   ]
  },
  {
   "cell_type": "code",
   "execution_count": 7,
   "metadata": {},
   "outputs": [
    {
     "data": {
      "text/plain": [
       "dtype([('name', '<U10'), ('age', '<i8')])"
      ]
     },
     "execution_count": 7,
     "metadata": {},
     "output_type": "execute_result"
    }
   ],
   "source": [
    "my_dt = np.dtype([('name',  'U10'),('age',  int)]) # 按关键字排序\n",
    "my_dt"
   ]
  },
  {
   "cell_type": "markdown",
   "metadata": {},
   "source": [
    "按键排序"
   ]
  },
  {
   "cell_type": "code",
   "execution_count": 8,
   "metadata": {},
   "outputs": [
    {
     "data": {
      "text/plain": [
       "array([('罗志祥', 21), ('黄渤', 25), ('孙红雷', 17), ('黄磊', 27)],\n",
       "      dtype=[('name', '<U10'), ('age', '<i8')])"
      ]
     },
     "execution_count": 8,
     "metadata": {},
     "output_type": "execute_result"
    }
   ],
   "source": [
    "arr3 = np.array([(\"罗志祥\", 21), (\"黄渤\", 25), (\"孙红雷\",  17),  (\"黄磊\",27)], dtype=my_dt)\n",
    "arr3"
   ]
  },
  {
   "cell_type": "code",
   "execution_count": 9,
   "metadata": {},
   "outputs": [
    {
     "data": {
      "text/plain": [
       "array([('孙红雷', 17), ('罗志祥', 21), ('黄渤', 25), ('黄磊', 27)],\n",
       "      dtype=[('name', '<U10'), ('age', '<i8')])"
      ]
     },
     "execution_count": 9,
     "metadata": {},
     "output_type": "execute_result"
    }
   ],
   "source": [
    "np.sort(arr3, order='age')"
   ]
  }
 ],
 "metadata": {
  "kernelspec": {
   "display_name": "Python 3",
   "language": "python",
   "name": "python3"
  },
  "language_info": {
   "codemirror_mode": {
    "name": "ipython",
    "version": 3
   },
   "file_extension": ".py",
   "mimetype": "text/x-python",
   "name": "python",
   "nbconvert_exporter": "python",
   "pygments_lexer": "ipython3",
   "version": "3.7.0"
  }
 },
 "nbformat": 4,
 "nbformat_minor": 2
}
