{
 "cells": [
  {
   "cell_type": "markdown",
   "metadata": {},
   "source": [
    "**数学和统计方法**\n",
    "\n",
    "在这些方法中，布尔值中的True和False会被相应地转换为1和0参与计算\n",
    "\n",
    "- amin(a[, axis, out, keepdims]) \n",
    "> 返回数组的最小值或沿轴的最小值\n",
    "\n",
    "- amax(a[, axis, out, keepdims]) \n",
    "> 返回数组的最大值或沿轴的最大值\n",
    "\n",
    "- nanmin(a[, axis, out, keepdims]) \n",
    "> 返回数组的最小值或沿轴的最小值，忽略任何NAN\n",
    "\n",
    "- nanmax(a[, axis, out, keepdims]) \n",
    "> 返回数组的最大值或沿轴方向的最大值，忽略任何NAN\n",
    "\n",
    "- median(a[, axis, out, overwrite_input, keepdims]) \n",
    "> 沿指定轴计算中值\n",
    "\n",
    "- average(a[, axis, weights, returned]) \n",
    "> 计算沿指定轴的加权平均\n",
    "\n",
    "- mean(a[, axis, dtype, out, keepdims]) \n",
    "> 沿指定的轴计算算术平均值\n",
    "\n",
    "- std(a[, axis, dtype, out, ddof, keepdims]) \n",
    "> 计算沿指定轴的标准偏差\n",
    "\n",
    "- var(a[, axis, dtype, out, ddof, keepdims]) \n",
    "> 计算沿指定轴的方差\n",
    "\n",
    "- nanmedian(a[, axis, out, overwrite_input, …]) \n",
    "> 在忽略NAS的情况下，沿指定的轴计算中值\n",
    "\n",
    "- nanmean(a[, axis, dtype, out, keepdims]) \n",
    "> 计算沿指定轴的算术平均值，忽略NAN\n",
    "\n",
    "- nanstd(a[, axis, dtype, out, ddof, keepdims]) \n",
    "> 计算指定轴上的标准偏差，而忽略NAN\n",
    "\n",
    "- nanvar(a[, axis, dtype, out, ddof, keepdims]) \n",
    "> 计算指定轴上的方差，同时忽略NAN"
   ]
  },
  {
   "cell_type": "code",
   "execution_count": 1,
   "metadata": {},
   "outputs": [
    {
     "data": {
      "text/plain": [
       "array([[nan,  0.,  1.,  2.,  3.],\n",
       "       [ 4.,  5., nan,  6.,  7.],\n",
       "       [ 8.,  9., 10., nan, 11.]])"
      ]
     },
     "execution_count": 1,
     "metadata": {},
     "output_type": "execute_result"
    }
   ],
   "source": [
    "import numpy as np\n",
    "\n",
    "arr = np.array([[np.NaN, 0, 1, 2, 3],\n",
    "                [ 4, 5, np.NaN, 6, 7],\n",
    "                [ 8, 9, 10, np.NaN, 11]])\n",
    "arr"
   ]
  },
  {
   "cell_type": "code",
   "execution_count": 2,
   "metadata": {},
   "outputs": [
    {
     "name": "stderr",
     "output_type": "stream",
     "text": [
      "/anaconda3/lib/python3.7/site-packages/numpy/core/fromnumeric.py:83: RuntimeWarning: invalid value encountered in reduce\n",
      "  return ufunc.reduce(obj, axis, dtype, out, **passkwargs)\n"
     ]
    },
    {
     "data": {
      "text/plain": [
       "nan"
      ]
     },
     "execution_count": 2,
     "metadata": {},
     "output_type": "execute_result"
    }
   ],
   "source": [
    "np.amax(arr)"
   ]
  },
  {
   "cell_type": "code",
   "execution_count": 3,
   "metadata": {},
   "outputs": [
    {
     "data": {
      "text/plain": [
       "11.0"
      ]
     },
     "execution_count": 3,
     "metadata": {},
     "output_type": "execute_result"
    }
   ],
   "source": [
    "np.nanmax(arr) # 默认是计算flatten之后的数组，可以指定axis参数 0/1"
   ]
  },
  {
   "cell_type": "code",
   "execution_count": 4,
   "metadata": {},
   "outputs": [
    {
     "data": {
      "text/plain": [
       "0.0"
      ]
     },
     "execution_count": 4,
     "metadata": {},
     "output_type": "execute_result"
    }
   ],
   "source": [
    "np.nanmin(arr)"
   ]
  },
  {
   "cell_type": "code",
   "execution_count": 5,
   "metadata": {},
   "outputs": [
    {
     "data": {
      "text/plain": [
       "5.5"
      ]
     },
     "execution_count": 5,
     "metadata": {},
     "output_type": "execute_result"
    }
   ],
   "source": [
    "np.nanmean(arr) # 平均值"
   ]
  },
  {
   "cell_type": "code",
   "execution_count": 6,
   "metadata": {},
   "outputs": [
    {
     "data": {
      "text/plain": [
       "5.5"
      ]
     },
     "execution_count": 6,
     "metadata": {},
     "output_type": "execute_result"
    }
   ],
   "source": [
    "np.nanmedian(arr) # 中位数"
   ]
  },
  {
   "cell_type": "code",
   "execution_count": 7,
   "metadata": {},
   "outputs": [
    {
     "data": {
      "text/plain": [
       "3.452052529534663"
      ]
     },
     "execution_count": 7,
     "metadata": {},
     "output_type": "execute_result"
    }
   ],
   "source": [
    "np.nanstd(arr) # 标准差"
   ]
  },
  {
   "cell_type": "code",
   "execution_count": 8,
   "metadata": {},
   "outputs": [
    {
     "data": {
      "text/plain": [
       "11.916666666666666"
      ]
     },
     "execution_count": 8,
     "metadata": {},
     "output_type": "execute_result"
    }
   ],
   "source": [
    "np.nanvar(arr) # 方差"
   ]
  },
  {
   "cell_type": "markdown",
   "metadata": {},
   "source": [
    "布尔值True和False会被转为1和0参与计算"
   ]
  },
  {
   "cell_type": "code",
   "execution_count": 9,
   "metadata": {},
   "outputs": [
    {
     "data": {
      "text/plain": [
       "6.2"
      ]
     },
     "execution_count": 9,
     "metadata": {},
     "output_type": "execute_result"
    }
   ],
   "source": [
    "bool_arr = np.array([0.7, 0, 0.5, True, False, True, True, True, False, True])\n",
    "bool_arr.sum()"
   ]
  },
  {
   "cell_type": "code",
   "execution_count": 10,
   "metadata": {},
   "outputs": [
    {
     "data": {
      "text/plain": [
       "1.0"
      ]
     },
     "execution_count": 10,
     "metadata": {},
     "output_type": "execute_result"
    },
    {
     "data": {
      "text/plain": [
       "0.0"
      ]
     },
     "execution_count": 10,
     "metadata": {},
     "output_type": "execute_result"
    }
   ],
   "source": [
    "arr2 = np.array([0.1, 0.2, 0.3, True, False])\n",
    "np.amax(arr2)\n",
    "np.amin(arr2)"
   ]
  }
 ],
 "metadata": {
  "kernelspec": {
   "display_name": "Python 3",
   "language": "python",
   "name": "python3"
  },
  "language_info": {
   "codemirror_mode": {
    "name": "ipython",
    "version": 3
   },
   "file_extension": ".py",
   "mimetype": "text/x-python",
   "name": "python",
   "nbconvert_exporter": "python",
   "pygments_lexer": "ipython3",
   "version": "3.7.0"
  }
 },
 "nbformat": 4,
 "nbformat_minor": 2
}
