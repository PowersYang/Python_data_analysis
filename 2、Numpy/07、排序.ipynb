{
 "cells": [
  {
   "cell_type": "markdown",
   "metadata": {},
   "source": [
    "**排序**\n",
    "- sort(a[, axis, kind, order]) \n",
    "> 返回数组的排序副本\n",
    "\n",
    "- ndarray.sort([axis, kind, order]) \n",
    "> 就地对数组进行排序\n",
    "\n",
    "- lexsort(keys[, axis]) \n",
    "> 使用一系列键执行间接排序\n",
    "\n",
    "- argsort(a[, axis, kind, order]) \n",
    "> 返回对数组进行排序的索引\n",
    "\n",
    "- msort(a) \n",
    "> 返回沿第一个轴排序的数组副本\n",
    "\n",
    "- sort_complex(a) \n",
    "> 首先使用实部对复杂数组进行排序，然后使用虚部进行排序\n",
    "\n",
    "- partition(a, kth[, axis, kind, order]) \n",
    "> 返回数组的分区副本\n",
    "\n",
    "- argpartition(a, kth[, axis, kind, order]) \n",
    "> 使用kind关键字指定的算法沿给定轴执行间接分区"
   ]
  },
  {
   "cell_type": "code",
   "execution_count": 9,
   "metadata": {},
   "outputs": [
    {
     "data": {
      "text/plain": [
       "array([ 0.72425128, -1.55974414,  0.52616004, -1.46867152, -0.81885181,\n",
       "       -0.72524126, -0.12968284, -0.7787037 ,  1.03384003,  0.10946823])"
      ]
     },
     "execution_count": 9,
     "metadata": {},
     "output_type": "execute_result"
    }
   ],
   "source": [
    "import numpy as np\n",
    "\n",
    "arr1 = np.random.randn(10)\n",
    "arr1"
   ]
  },
  {
   "cell_type": "code",
   "execution_count": 10,
   "metadata": {},
   "outputs": [
    {
     "data": {
      "text/plain": [
       "array([-1.55974414, -1.46867152, -0.81885181, -0.7787037 , -0.72524126,\n",
       "       -0.12968284,  0.10946823,  0.52616004,  0.72425128,  1.03384003])"
      ]
     },
     "execution_count": 10,
     "metadata": {},
     "output_type": "execute_result"
    }
   ],
   "source": [
    "np.sort(arr1)"
   ]
  },
  {
   "cell_type": "code",
   "execution_count": 11,
   "metadata": {},
   "outputs": [
    {
     "data": {
      "text/plain": [
       "array([-1.55974414, -1.46867152, -0.81885181, -0.7787037 , -0.72524126,\n",
       "       -0.12968284,  0.10946823,  0.52616004,  0.72425128,  1.03384003])"
      ]
     },
     "execution_count": 11,
     "metadata": {},
     "output_type": "execute_result"
    }
   ],
   "source": [
    "arr1.sort() # 就地进行排序，修改原数组\n",
    "arr1"
   ]
  },
  {
   "cell_type": "markdown",
   "metadata": {},
   "source": [
    "多维数组排序"
   ]
  },
  {
   "cell_type": "code",
   "execution_count": 15,
   "metadata": {},
   "outputs": [
    {
     "data": {
      "text/plain": [
       "array([[ 0.09001198,  1.08482898,  0.33006021,  0.70750344],\n",
       "       [-1.30828294, -1.96147242,  1.68277292,  0.85305723],\n",
       "       [ 0.5549058 , -0.22550362,  0.49554062, -0.5550557 ]])"
      ]
     },
     "execution_count": 15,
     "metadata": {},
     "output_type": "execute_result"
    }
   ],
   "source": [
    "arr2 = np.random.randn(3, 4)\n",
    "arr2"
   ]
  },
  {
   "cell_type": "code",
   "execution_count": 16,
   "metadata": {},
   "outputs": [
    {
     "data": {
      "text/plain": [
       "array([[ 0.09001198,  0.33006021,  0.70750344,  1.08482898],\n",
       "       [-1.96147242, -1.30828294,  0.85305723,  1.68277292],\n",
       "       [-0.5550557 , -0.22550362,  0.49554062,  0.5549058 ]])"
      ]
     },
     "execution_count": 16,
     "metadata": {},
     "output_type": "execute_result"
    }
   ],
   "source": [
    "np.sort(arr2, axis=1) # 按列排序"
   ]
  },
  {
   "cell_type": "code",
   "execution_count": 17,
   "metadata": {},
   "outputs": [
    {
     "data": {
      "text/plain": [
       "array([[-1.30828294, -1.96147242,  0.33006021, -0.5550557 ],\n",
       "       [ 0.09001198, -0.22550362,  0.49554062,  0.70750344],\n",
       "       [ 0.5549058 ,  1.08482898,  1.68277292,  0.85305723]])"
      ]
     },
     "execution_count": 17,
     "metadata": {},
     "output_type": "execute_result"
    }
   ],
   "source": [
    "np.sort(arr2, axis=0) # 按行排序"
   ]
  },
  {
   "cell_type": "code",
   "execution_count": 21,
   "metadata": {},
   "outputs": [
    {
     "data": {
      "text/plain": [
       "dtype([('name', '<U10'), ('age', '<i4')])"
      ]
     },
     "execution_count": 21,
     "metadata": {},
     "output_type": "execute_result"
    }
   ],
   "source": [
    "my_dt = np.dtype([('name',  'U10'),('age',  int)]) # 按关键字排序\n",
    "my_dt"
   ]
  },
  {
   "cell_type": "markdown",
   "metadata": {},
   "source": [
    "按键排序"
   ]
  },
  {
   "cell_type": "code",
   "execution_count": 22,
   "metadata": {},
   "outputs": [
    {
     "data": {
      "text/plain": [
       "array([('罗志祥', 21), ('黄渤', 25), ('孙红雷', 17), ('黄磊', 27)],\n",
       "      dtype=[('name', '<U10'), ('age', '<i4')])"
      ]
     },
     "execution_count": 22,
     "metadata": {},
     "output_type": "execute_result"
    }
   ],
   "source": [
    "arr3 = np.array([(\"罗志祥\", 21), (\"黄渤\", 25), (\"孙红雷\",  17),  (\"黄磊\",27)], dtype=my_dt)\n",
    "arr3"
   ]
  },
  {
   "cell_type": "code",
   "execution_count": 25,
   "metadata": {},
   "outputs": [
    {
     "data": {
      "text/plain": [
       "array([('孙红雷', 17), ('罗志祥', 21), ('黄渤', 25), ('黄磊', 27)],\n",
       "      dtype=[('name', '<U10'), ('age', '<i4')])"
      ]
     },
     "execution_count": 25,
     "metadata": {},
     "output_type": "execute_result"
    }
   ],
   "source": [
    "np.sort(arr3, order='age')"
   ]
  }
 ],
 "metadata": {
  "kernelspec": {
   "display_name": "Python 3",
   "language": "python",
   "name": "python3"
  },
  "language_info": {
   "codemirror_mode": {
    "name": "ipython",
    "version": 3
   },
   "file_extension": ".py",
   "mimetype": "text/x-python",
   "name": "python",
   "nbconvert_exporter": "python",
   "pygments_lexer": "ipython3",
   "version": "3.7.3"
  }
 },
 "nbformat": 4,
 "nbformat_minor": 2
}
