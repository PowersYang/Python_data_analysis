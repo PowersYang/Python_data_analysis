{
 "cells": [
  {
   "cell_type": "markdown",
   "metadata": {},
   "source": [
    "**排序**\n",
    "- sort()\n",
    "    - arr.sort()会直接修改arr本身\n",
    "    - np.sort()返回一个排序后的副本，不修改原数组\n",
    "\n",
    "    参数说明:\n",
    "    > sort(axis=-1, kind='quicksort', order=None)\n",
    "    > \n",
    "    > axis：排序沿数组的（轴）方向，0表示按行，1表示按列，None表示展开来排序，默认值为-1，表示沿最后的轴排序\n",
    "    >\n",
    "    > kind：排序的算法，提供了快排'quicksort'、混排'mergesort'、堆排'heapsort'， 默认为‘quicksort'\n",
    "    >\n",
    "    > order：排序的字段名，可指定字段排序，默认为None\n",
    "\n",
    "- lexsort(keys[, axis])\t使用一系列键执行间接排序。\n",
    "- argsort(a[, axis, kind, order])\t返回对数组进行排序的索引。\n",
    "- ndarray.sort([axis, kind, order])\t就地对数组进行排序。\n",
    "- msort(a)\t返回沿第一个轴排序的数组副本。\n",
    "- sort_complex(a)\t首先使用实部对复杂数组进行排序，然后使用虚部进行排序。\n",
    "- partition(a, kth[, axis, kind, order])\t返回数组的分区副本。\n",
    "- argpartition(a, kth[, axis, kind, order])\t使用kind关键字指定的算法沿给定轴执行间接分区。\n"
   ]
  },
  {
   "cell_type": "code",
   "execution_count": 3,
   "metadata": {},
   "outputs": [
    {
     "data": {
      "text/plain": [
       "array([ 0.04245784,  0.78293867, -0.24102925, -0.53719802, -0.23311417,\n",
       "        0.55442962, -0.71754646,  0.475932  ,  0.84569377,  0.91639913])"
      ]
     },
     "execution_count": 3,
     "metadata": {},
     "output_type": "execute_result"
    }
   ],
   "source": [
    "import numpy as np\n",
    "\n",
    "arr1 = np.random.randn(10)\n",
    "arr1"
   ]
  },
  {
   "cell_type": "code",
   "execution_count": 4,
   "metadata": {},
   "outputs": [
    {
     "data": {
      "text/plain": [
       "array([-0.71754646, -0.53719802, -0.24102925, -0.23311417,  0.04245784,\n",
       "        0.475932  ,  0.55442962,  0.78293867,  0.84569377,  0.91639913])"
      ]
     },
     "execution_count": 4,
     "metadata": {},
     "output_type": "execute_result"
    }
   ],
   "source": [
    "np.sort(arr1)"
   ]
  },
  {
   "cell_type": "code",
   "execution_count": 5,
   "metadata": {},
   "outputs": [
    {
     "data": {
      "text/plain": [
       "array([-0.71754646, -0.53719802, -0.24102925, -0.23311417,  0.04245784,\n",
       "        0.475932  ,  0.55442962,  0.78293867,  0.84569377,  0.91639913])"
      ]
     },
     "execution_count": 5,
     "metadata": {},
     "output_type": "execute_result"
    }
   ],
   "source": [
    "arr1.sort()\n",
    "arr1"
   ]
  },
  {
   "cell_type": "markdown",
   "metadata": {},
   "source": [
    "多维数组排序"
   ]
  },
  {
   "cell_type": "code",
   "execution_count": 6,
   "metadata": {},
   "outputs": [
    {
     "data": {
      "text/plain": [
       "array([[-2.0231105 ,  0.45299572, -1.24832653,  0.31121567],\n",
       "       [ 1.08354443,  0.84434128, -0.54484272, -1.36247832],\n",
       "       [-0.68414069,  0.60621733, -1.26834171, -0.57610449]])"
      ]
     },
     "execution_count": 6,
     "metadata": {},
     "output_type": "execute_result"
    }
   ],
   "source": [
    "arr2 = np.random.randn(3, 4)\n",
    "arr2"
   ]
  },
  {
   "cell_type": "code",
   "execution_count": 7,
   "metadata": {},
   "outputs": [
    {
     "data": {
      "text/plain": [
       "array([[-2.0231105 , -1.24832653,  0.31121567,  0.45299572],\n",
       "       [-1.36247832, -0.54484272,  0.84434128,  1.08354443],\n",
       "       [-1.26834171, -0.68414069, -0.57610449,  0.60621733]])"
      ]
     },
     "execution_count": 7,
     "metadata": {},
     "output_type": "execute_result"
    }
   ],
   "source": [
    "np.sort(arr2, axis=1) # 按列排序"
   ]
  },
  {
   "cell_type": "code",
   "execution_count": 8,
   "metadata": {},
   "outputs": [
    {
     "data": {
      "text/plain": [
       "array([[-2.0231105 ,  0.45299572, -1.26834171, -1.36247832],\n",
       "       [-0.68414069,  0.60621733, -1.24832653, -0.57610449],\n",
       "       [ 1.08354443,  0.84434128, -0.54484272,  0.31121567]])"
      ]
     },
     "execution_count": 8,
     "metadata": {},
     "output_type": "execute_result"
    }
   ],
   "source": [
    "np.sort(arr2, axis=0) # 按行排序"
   ]
  },
  {
   "cell_type": "code",
   "execution_count": 9,
   "metadata": {},
   "outputs": [
    {
     "data": {
      "text/plain": [
       "dtype([('name', 'S10'), ('age', '<i4')])"
      ]
     },
     "execution_count": 9,
     "metadata": {},
     "output_type": "execute_result"
    }
   ],
   "source": [
    "my_dt = np.dtype([('name',  'S10'),('age',  int)])\n",
    "my_dt"
   ]
  },
  {
   "cell_type": "code",
   "execution_count": 10,
   "metadata": {},
   "outputs": [
    {
     "data": {
      "text/plain": [
       "array([(b'Mike', 21), (b'Nancy', 25), (b'Bob', 17), (b'Jane', 27)],\n",
       "      dtype=[('name', 'S10'), ('age', '<i4')])"
      ]
     },
     "execution_count": 10,
     "metadata": {},
     "output_type": "execute_result"
    }
   ],
   "source": [
    "arr3 = np.array([(\"Mike\",21),(\"Nancy\",25),(\"Bob\",  17),  (\"Jane\",27)], dtype=my_dt)\n",
    "arr3"
   ]
  },
  {
   "cell_type": "code",
   "execution_count": 11,
   "metadata": {},
   "outputs": [
    {
     "data": {
      "text/plain": [
       "array([(b'Bob', 17), (b'Mike', 21), (b'Nancy', 25), (b'Jane', 27)],\n",
       "      dtype=[('name', 'S10'), ('age', '<i4')])"
      ]
     },
     "execution_count": 11,
     "metadata": {},
     "output_type": "execute_result"
    }
   ],
   "source": [
    "np.sort(arr3, order='age')"
   ]
  }
 ],
 "metadata": {
  "kernelspec": {
   "display_name": "Python 3",
   "language": "python",
   "name": "python3"
  },
  "language_info": {
   "codemirror_mode": {
    "name": "ipython",
    "version": 3
   },
   "file_extension": ".py",
   "mimetype": "text/x-python",
   "name": "python",
   "nbconvert_exporter": "python",
   "pygments_lexer": "ipython3",
   "version": "3.7.3"
  }
 },
 "nbformat": 4,
 "nbformat_minor": 2
}
