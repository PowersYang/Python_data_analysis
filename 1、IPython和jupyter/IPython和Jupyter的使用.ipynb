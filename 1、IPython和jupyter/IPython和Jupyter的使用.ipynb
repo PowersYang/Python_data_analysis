{
 "cells": [
  {
   "cell_type": "markdown",
   "metadata": {},
   "source": [
    "**运行IPython Shell**\n",
    "* 输入`ipython`命令然后按下`Enter`键\n",
    "    \n",
    "**运行Jupyter Notebook**\n",
    "* 输入`jupyter notebook`命令然后按下`Enter`键\n",
    "* 大部分情况下输入该命令之后就会自动打开浏览器，如果没有，你可以输入`http://localhost:8888/`手动打开浏览器\n",
    "* Jupyter不仅可以作为本地机器的计算环境，你还可以将其部署到远程服务器上访问\n",
    " \n",
    "**新建.ipynb文件**\n",
    "* 选择合适的文件夹，然后点击右上角的`New`下拉菜单，选择`Python3`\n",
    "\n",
    "**重命名文件**\n",
    "* 可以在.ipynb文件的编辑页面点击左上角Jupyter LOGO旁边的加粗字样（如果是新建的文件，默认名为Untitled），输入新名称，按下回车键\n",
    "* 或者在文件列表页面选中文件名之前的复选框，点击`Rename`重命名。此方法必须在文件shutdown的时候才能进行。\n",
    "\n",
    "**Tab补全**\n",
    "* 输入表达式，然后按下`Tab`\n",
    "\n",
    "**自省**\n",
    "* 在变量后面使用问号?，可以显示对象信息\n",
    "* 使用两个问号??会显示源码\n",
    "\n",
    "**多行输出**\n",
    "* ~/.ipython/profile_default/ 目录下新建 ipython_config.py，然后添加以下内容之后重启：\n",
    "```\n",
    "c = get_config()\n",
    "c.InteractiveShell.ast_node_interactivity = \"all\"\n",
    "```"
   ]
  },
  {
   "cell_type": "code",
   "execution_count": null,
   "metadata": {},
   "outputs": [],
   "source": [
    "a = 10\n",
    "a?"
   ]
  },
  {
   "cell_type": "code",
   "execution_count": null,
   "metadata": {},
   "outputs": [],
   "source": [
    "def test_fun(a, b):\n",
    "    \"\"\"\n",
    "    Compute the sum of two objects\n",
    "    \"\"\"\n",
    "    \n",
    "    return a + b\n",
    "\n",
    "test_fun?"
   ]
  },
  {
   "cell_type": "code",
   "execution_count": null,
   "metadata": {},
   "outputs": [],
   "source": [
    "test_fun??"
   ]
  },
  {
   "cell_type": "markdown",
   "metadata": {},
   "source": [
    "**%run命令**\n",
    "* 可以使用`%run`命令运行py文件\n",
    "* 而且可以访问py文件中的对象\n",
    "* 如果需要传递参数，可以直接跟在文件名后面"
   ]
  },
  {
   "cell_type": "code",
   "execution_count": null,
   "metadata": {},
   "outputs": [],
   "source": [
    "%run run_test.py '这是传递的命令行参数'"
   ]
  },
  {
   "cell_type": "code",
   "execution_count": null,
   "metadata": {},
   "outputs": [],
   "source": [
    "run_test_str # 这是定义在run_test.py文件中的变量"
   ]
  },
  {
   "cell_type": "markdown",
   "metadata": {},
   "source": [
    "**%load命令**\n",
    "* 该命令可以导入py文件中的代码到cell中"
   ]
  },
  {
   "cell_type": "code",
   "execution_count": null,
   "metadata": {},
   "outputs": [],
   "source": [
    "# %load load_test.py\n",
    "def load_fun():\n",
    "    a = 10\n",
    "    b = 20\n",
    "\n",
    "    return a + b"
   ]
  },
  {
   "cell_type": "code",
   "execution_count": null,
   "metadata": {},
   "outputs": [],
   "source": [
    "%time print('a')"
   ]
  },
  {
   "cell_type": "markdown",
   "metadata": {},
   "source": [
    "**%time和%timeit**\n",
    "* %time会运行一行代码，然后输出计算执行时间\n",
    "* %timeit会多次执行一行代码，然后计算平均执行时间"
   ]
  },
  {
   "cell_type": "code",
   "execution_count": null,
   "metadata": {},
   "outputs": [],
   "source": [
    "%time sum(range(100))"
   ]
  },
  {
   "cell_type": "code",
   "execution_count": null,
   "metadata": {},
   "outputs": [],
   "source": [
    "%timeit sum(range(100))"
   ]
  },
  {
   "cell_type": "markdown",
   "metadata": {},
   "source": [
    "**%%time和%%timeit**\n",
    "* %time会运行当前cell中的代码，然后输出计算执行时间\n",
    "* %timeit会多次执行当前cell中的代码，然后计算平均执行时间"
   ]
  },
  {
   "cell_type": "code",
   "execution_count": null,
   "metadata": {},
   "outputs": [],
   "source": [
    "%%time\n",
    "total = 0\n",
    "for i in range(100):\n",
    "    total += i\n",
    "print(total)"
   ]
  },
  {
   "cell_type": "code",
   "execution_count": null,
   "metadata": {},
   "outputs": [],
   "source": [
    "%%timeit\n",
    "total = 0\n",
    "for i in range(100):\n",
    "    total += i\n",
    "print(total)"
   ]
  }
 ],
 "metadata": {
  "kernelspec": {
   "display_name": "Python 3",
   "language": "python",
   "name": "python3"
  },
  "language_info": {
   "codemirror_mode": {
    "name": "ipython",
    "version": 3
   },
   "file_extension": ".py",
   "mimetype": "text/x-python",
   "name": "python",
   "nbconvert_exporter": "python",
   "pygments_lexer": "ipython3",
   "version": "3.7.3"
  }
 },
 "nbformat": 4,
 "nbformat_minor": 2
}
