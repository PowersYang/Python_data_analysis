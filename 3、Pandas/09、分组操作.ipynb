{
 "cells": [
  {
   "cell_type": "code",
   "execution_count": 6,
   "metadata": {},
   "outputs": [],
   "source": [
    "import numpy as np\n",
    "import pandas as pd\n",
    "from pandas import Series\n",
    "from pandas import DataFrame"
   ]
  },
  {
   "cell_type": "markdown",
   "metadata": {},
   "source": [
    "# Splitting-Applying-Combining\n",
    "<img src='./imgs/groupby.png' width='400px' />"
   ]
  },
  {
   "cell_type": "markdown",
   "metadata": {},
   "source": [
    "# Splitting\n",
    "\n",
    "**groupby()**\n",
    "\n",
    "#### `df.groupby(by=None, axis=0, level=None, as_index=True, sort=True, group_keys=True, squeeze=False, observed=False, **kwargs)`\n",
    "\n",
    "- by：mapping, function, label, or list of labels。用于确定groupby的组。如果by是一个函数，那么会调用对象索引的每个值。\n",
    "如果传递了一个dict或Series,则将使用Series或dict的值来确定组。\n",
    "一个str或者一个strs列表可以通过自己的列传递给group。\n",
    "\n",
    "- axis：轴，int值，默认为0。\n",
    "\n",
    "- level：int，level name，or sequence of such，默认为None。如果axis是一个MultiIndex（分层），则按特定的级别分组。\n",
    "\n",
    "- as_index：bool，默认为True。对于聚合输出，返回带有组标签的对象作为索引。as_index=False实际上是“SQL风格”分组输出。\n",
    "\n",
    "- sort：bool，默认为True。排序。关闭此功能以获得更好的性能。\n",
    "\n",
    "- group_keys：bool，默认为True。当调用apply时，添加group key来索引来识别片断。boolean值，默认True。\n",
    "\n",
    "- squeeze：bool，默认为False。尽可能减少返回类型的维度，否则返回一致的类型。\n",
    "\n",
    "- observed：bool，默认为False。只适用于有group是Categoricals的情况。"
   ]
  },
  {
   "cell_type": "code",
   "execution_count": 27,
   "metadata": {},
   "outputs": [
    {
     "data": {
      "text/plain": [
       "A      1\n",
       "B      2\n",
       "C      3\n",
       "A     10\n",
       "B     20\n",
       "C     30\n",
       "A    100\n",
       "B    200\n",
       "C    300\n",
       "dtype: int64"
      ]
     },
     "execution_count": 27,
     "metadata": {},
     "output_type": "execute_result"
    }
   ],
   "source": [
    "s = Series([1, 2, 3, 1, 2, 3, 100, 200, 300], index=['A', 'B', 'C', 'A', 'B', 'C', 'A', 'B', 'C'])\n",
    "s"
   ]
  },
  {
   "cell_type": "code",
   "execution_count": 35,
   "metadata": {},
   "outputs": [
    {
     "data": {
      "text/plain": [
       "{1: Index(['A'], dtype='object'),\n",
       " 2: Index(['B'], dtype='object'),\n",
       " 3: Index(['C'], dtype='object'),\n",
       " 10: Index(['A'], dtype='object'),\n",
       " 20: Index(['B'], dtype='object'),\n",
       " 30: Index(['C'], dtype='object'),\n",
       " 100: Index(['A'], dtype='object'),\n",
       " 200: Index(['B'], dtype='object'),\n",
       " 300: Index(['C'], dtype='object')}"
      ]
     },
     "execution_count": 35,
     "metadata": {},
     "output_type": "execute_result"
    }
   ],
   "source": [
    "s.groupby(s.values).groups"
   ]
  },
  {
   "cell_type": "code",
   "execution_count": 17,
   "metadata": {},
   "outputs": [
    {
     "data": {
      "text/plain": [
       "k1\n",
       "a    4.333333\n",
       "b    6.000000\n",
       "Name: c1, dtype: float64"
      ]
     },
     "execution_count": 17,
     "metadata": {},
     "output_type": "execute_result"
    }
   ],
   "source": [
    "df['c1'].groupby(df['k1']).mean()"
   ]
  },
  {
   "cell_type": "code",
   "execution_count": null,
   "metadata": {},
   "outputs": [],
   "source": []
  }
 ],
 "metadata": {
  "kernelspec": {
   "display_name": "Python 3",
   "language": "python",
   "name": "python3"
  },
  "language_info": {
   "codemirror_mode": {
    "name": "ipython",
    "version": 3
   },
   "file_extension": ".py",
   "mimetype": "text/x-python",
   "name": "python",
   "nbconvert_exporter": "python",
   "pygments_lexer": "ipython3",
   "version": "3.7.0"
  }
 },
 "nbformat": 4,
 "nbformat_minor": 4
}
