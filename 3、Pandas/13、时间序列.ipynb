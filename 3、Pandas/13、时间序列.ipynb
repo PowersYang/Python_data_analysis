{
 "cells": [
  {
   "cell_type": "code",
   "execution_count": 5,
   "metadata": {},
   "outputs": [],
   "source": [
    "import numpy as np\n",
    "import pandas as pd\n",
    "import datetime"
   ]
  },
  {
   "cell_type": "markdown",
   "metadata": {},
   "source": [
    "# 1、创建\n",
    "\n",
    "## 1.1 to_datetime\n",
    "`pd.to_datetime(arg, errors='raise', dayfirst=False, yearfirst=False, utc=None, box=True, format=None, exact=True, unit=None, infer_datetime_format=False, origin='unix', cache=True)`\n",
    "\n",
    "- arg：integer, float, string, datetime, list, tuple, 1-d array, Series or DataFrame/dict-like\n",
    "- errors：{'ignore', 'raise', 'coerce'}, 默认为 'raise'\n",
    "    - 如果为ignore，遇到无法解析的字符串会返回原字符串\n",
    "    - 如果为raise，遇到无法解析的字符串会抛出异常\n",
    "    - 如果为coerce，遇到无法解析的字符串会转为NaT\n",
    "- dayfirst：指定解析顺序（如果 arg 参数为字符串或类似于列表的对象）。如果为True，10/11/12 会被解析为 2012/11/10\n",
    "- yearfirst：指定解析顺序（如果 arg 参数为字符串或类似于列表的对象）。如果为True，10/11/12 会被解析为 2010/11/12\n",
    "    - 如果 dayfirst 和 yearfirst 都为True的话，yearfirst优先级高（默认）\n",
    "- format：指定解析格式。\n",
    "    - pd.to_datetime('12-2010-10 00:00', format='%d-%Y-%m %H:%M') 会被解析为 2010-10-12 00:00:00\n",
    "    \n",
    "返回类型依赖于输入：\n",
    "- 输入标量，返回Timestap\n",
    "- 输入数组，返回DatetimeIndex\n",
    "- 输入一个Series/DataFrame，返回Series"
   ]
  },
  {
   "cell_type": "code",
   "execution_count": 7,
   "metadata": {},
   "outputs": [
    {
     "data": {
      "text/plain": [
       "Timestamp('2019-01-01 00:00:00')"
      ]
     },
     "execution_count": 7,
     "metadata": {},
     "output_type": "execute_result"
    }
   ],
   "source": [
    "# 输入标量，返回Timestap\n",
    "pd.to_datetime('2019')"
   ]
  },
  {
   "cell_type": "code",
   "execution_count": 8,
   "metadata": {},
   "outputs": [
    {
     "data": {
      "text/plain": [
       "DatetimeIndex(['2019-01-01', '2019-02-01', '2019-03-01'], dtype='datetime64[ns]', freq=None)"
      ]
     },
     "execution_count": 8,
     "metadata": {},
     "output_type": "execute_result"
    }
   ],
   "source": [
    "# 输入数组，返回DatetimeIndex\n",
    "pd.to_datetime(['20190101', '20190201', '20190301'])"
   ]
  },
  {
   "cell_type": "code",
   "execution_count": 9,
   "metadata": {},
   "outputs": [
    {
     "data": {
      "text/plain": [
       "0   2019-01-01\n",
       "1   2019-02-01\n",
       "2   2019-03-01\n",
       "dtype: datetime64[ns]"
      ]
     },
     "execution_count": 9,
     "metadata": {},
     "output_type": "execute_result"
    }
   ],
   "source": [
    "# 输入一个Series，返回Series\n",
    "s = pd.Series(['20190101', '20190201', '20190301'])\n",
    "pd.to_datetime(s)"
   ]
  },
  {
   "cell_type": "markdown",
   "metadata": {},
   "source": [
    "也可以通过DataFrame来创建时间序列，但是需要通过列名称来指定时间单位：\n",
    "\n",
    " `year`, `month`, `day`是必选列名\n",
    " \n",
    " `hour` , `minute`, `second`, `millisecond`, `microsecond`, `nanosecond`是可选列名"
   ]
  },
  {
   "cell_type": "code",
   "execution_count": 10,
   "metadata": {},
   "outputs": [
    {
     "data": {
      "text/plain": [
       "0   2018-03-06 03:10:00\n",
       "1   2019-04-08 01:20:00\n",
       "dtype: datetime64[ns]"
      ]
     },
     "execution_count": 10,
     "metadata": {},
     "output_type": "execute_result"
    },
    {
     "data": {
      "text/plain": [
       "0   2018-03-06\n",
       "1   2019-04-08\n",
       "dtype: datetime64[ns]"
      ]
     },
     "execution_count": 10,
     "metadata": {},
     "output_type": "execute_result"
    }
   ],
   "source": [
    "# 输入一个DataFrame，返回一个Series\n",
    "df = pd.DataFrame({'year': [2018, 2019],'month': [3, 4], 'day': [6, 8],'hour': [3, 1], 'minute': [10, 20]})\n",
    "pd.to_datetime(df)\n",
    "\n",
    "pd.to_datetime(df[['year', 'month', 'day']])"
   ]
  },
  {
   "cell_type": "code",
   "execution_count": 29,
   "metadata": {},
   "outputs": [
    {
     "data": {
      "text/plain": [
       "DatetimeIndex([       '2019-07-06 12:00:00',        '2019-01-09 00:00:00',\n",
       "                      '2019-01-01 00:00:00',        '2019-07-31 00:00:00',\n",
       "                      '2018-01-01 00:00:00', '2019-09-08 09:52:13.906080'],\n",
       "              dtype='datetime64[ns]', freq=None)"
      ]
     },
     "execution_count": 29,
     "metadata": {},
     "output_type": "execute_result"
    }
   ],
   "source": [
    "# pandas中的时间解析是很灵活的\n",
    "datestrs = ['2019-07-06 12:00:00', '1/09/2019', '20190101', 'Jul 31, 2019', np.datetime64('2018-01-01'), datetime.datetime.now()]\n",
    "pd.to_datetime(datestrs)"
   ]
  },
  {
   "cell_type": "markdown",
   "metadata": {},
   "source": [
    "---\n",
    "## 1.2 date_range\n",
    "`pd.date_range(start=None, end=None, periods=None, freq=None, tz=None, normalize=False, name=None, closed=None, **kwargs)`\n",
    "\n",
    "生成固定频率的`DatetimeIndex`\n",
    "\n",
    "- start：string或datetime-like，默认值是None，表示日期的起点\n",
    "- end：string或datetime-like，默认值是None，表示日期的终点\n",
    "- periods：integer或None，默认值是None，表示你要从这个函数产生多少个日期索引值；如果是None的话，那么start和end必须不能为None\n",
    "- freq：string或DateOffset，默认值是’D’，表示以自然日为单位，这个参数用来指定计时单位，比如’5H’表示每隔5个小时计算一次。在[这里](https://pandas.pydata.org/pandas-docs/stable/user_guide/timeseries.html#timeseries-offset-aliases)可以看到所有可选值。\n",
    "    - Y 表示年\n",
    "    - M 表示月\n",
    "    - D 表示日\n",
    "    - W 表示周\n",
    "    - H 表示时\n",
    "    - T 表示分\n",
    "    - S 表示秒\n",
    "    - B 表示工作日\n",
    "- tz：string或None，表示时区，例如：’Asia/Hong_Kong’\n",
    "- normalize：bool，默认值为False，如果为True的话，那么在产生时间索引值之前会先把start和end都转化为当日的午夜0点\n",
    "- name：str，默认值为None，给返回的时间索引指定一个名字\n",
    "- closed：string或者None，默认值为None，表示start和end这个区间端点是否包含在区间内，可以有三个值，’left’表示左闭右开区间，’right’表示左开右闭区间，None表示两边都是闭区间\n",
    "\n",
    "\n",
    "`start`, `end`, `periods`, `freq`这四个参数至少需要指定三个，其中`freq`默认为D"
   ]
  },
  {
   "cell_type": "code",
   "execution_count": 11,
   "metadata": {},
   "outputs": [
    {
     "data": {
      "text/plain": [
       "DatetimeIndex(['2019-01-01 00:00:00', '2019-01-01 00:01:00',\n",
       "               '2019-01-01 00:02:00'],\n",
       "              dtype='datetime64[ns]', freq='T')"
      ]
     },
     "execution_count": 11,
     "metadata": {},
     "output_type": "execute_result"
    }
   ],
   "source": [
    "pd.date_range('2019-01-01', periods=3, freq='T') # freq 默认为D，可以写成3D，表示间隔为3天"
   ]
  },
  {
   "cell_type": "code",
   "execution_count": 12,
   "metadata": {},
   "outputs": [
    {
     "data": {
      "text/plain": [
       "DatetimeIndex(['2019-01-01 00:00:00', '2019-01-01 00:10:00',\n",
       "               '2019-01-01 00:20:00', '2019-01-01 00:30:00'],\n",
       "              dtype='datetime64[ns]', freq='10T')"
      ]
     },
     "execution_count": 12,
     "metadata": {},
     "output_type": "execute_result"
    }
   ],
   "source": [
    "pd.date_range('20190101', periods=4, freq='10T')"
   ]
  },
  {
   "cell_type": "markdown",
   "metadata": {},
   "source": [
    "---\n",
    "## 1.3 bdate_range\n",
    "`pd.bdate_range(start=None, end=None, periods=None, freq='B', tz=None, normalize=True, name=None, weekmask=None, holidays=None, closed=None, **kwargs)`\n",
    "\n",
    "按照工作日计算"
   ]
  },
  {
   "cell_type": "code",
   "execution_count": 30,
   "metadata": {},
   "outputs": [
    {
     "data": {
      "text/plain": [
       "DatetimeIndex(['2018-01-01', '2018-01-02', '2018-01-03', '2018-01-04',\n",
       "               '2018-01-05', '2018-01-08', '2018-01-09', '2018-01-10',\n",
       "               '2018-01-11', '2018-01-12',\n",
       "               ...\n",
       "               '2018-12-19', '2018-12-20', '2018-12-21', '2018-12-24',\n",
       "               '2018-12-25', '2018-12-26', '2018-12-27', '2018-12-28',\n",
       "               '2018-12-31', '2019-01-01'],\n",
       "              dtype='datetime64[ns]', length=262, freq='B')"
      ]
     },
     "execution_count": 30,
     "metadata": {},
     "output_type": "execute_result"
    }
   ],
   "source": [
    "pd.bdate_range(start='2018-01-01', end='2019-01-01')"
   ]
  },
  {
   "cell_type": "code",
   "execution_count": 31,
   "metadata": {},
   "outputs": [
    {
     "data": {
      "text/plain": [
       "DatetimeIndex(['2018-01-01', '2018-01-02', '2018-01-03', '2018-01-04',\n",
       "               '2018-01-05', '2018-01-06', '2018-01-07', '2018-01-08',\n",
       "               '2018-01-09', '2018-01-10',\n",
       "               ...\n",
       "               '2018-12-23', '2018-12-24', '2018-12-25', '2018-12-26',\n",
       "               '2018-12-27', '2018-12-28', '2018-12-29', '2018-12-30',\n",
       "               '2018-12-31', '2019-01-01'],\n",
       "              dtype='datetime64[ns]', length=366, freq='D')"
      ]
     },
     "execution_count": 31,
     "metadata": {},
     "output_type": "execute_result"
    }
   ],
   "source": [
    "pd.date_range(start='2018-01-01', end='2019-01-01')"
   ]
  },
  {
   "cell_type": "markdown",
   "metadata": {},
   "source": [
    "# 2、索引"
   ]
  },
  {
   "cell_type": "code",
   "execution_count": 32,
   "metadata": {},
   "outputs": [
    {
     "data": {
      "text/plain": [
       "2018-01-01    0.583192\n",
       "2018-01-02    0.359886\n",
       "2018-01-03    0.561006\n",
       "2018-01-04    1.419344\n",
       "2018-01-05    1.198088\n",
       "                ...   \n",
       "2019-05-28    0.919082\n",
       "2019-05-29    1.327074\n",
       "2019-05-30    0.132059\n",
       "2019-05-31    1.492528\n",
       "2019-06-01   -0.888241\n",
       "Freq: D, Length: 517, dtype: float64"
      ]
     },
     "execution_count": 32,
     "metadata": {},
     "output_type": "execute_result"
    }
   ],
   "source": [
    "d = pd.date_range('20180101', '20190601')\n",
    "ds = pd.Series(np.random.randn(len(d)), index=d)\n",
    "ds"
   ]
  },
  {
   "cell_type": "code",
   "execution_count": 33,
   "metadata": {},
   "outputs": [
    {
     "data": {
      "text/plain": [
       "DatetimeIndex(['2018-01-01', '2018-01-02', '2018-01-03', '2018-01-04',\n",
       "               '2018-01-05', '2018-01-06', '2018-01-07', '2018-01-08',\n",
       "               '2018-01-09', '2018-01-10',\n",
       "               ...\n",
       "               '2019-05-23', '2019-05-24', '2019-05-25', '2019-05-26',\n",
       "               '2019-05-27', '2019-05-28', '2019-05-29', '2019-05-30',\n",
       "               '2019-05-31', '2019-06-01'],\n",
       "              dtype='datetime64[ns]', length=517, freq='D')"
      ]
     },
     "execution_count": 33,
     "metadata": {},
     "output_type": "execute_result"
    }
   ],
   "source": [
    "ds.index"
   ]
  },
  {
   "cell_type": "code",
   "execution_count": 34,
   "metadata": {},
   "outputs": [
    {
     "data": {
      "text/plain": [
       "-0.17297847005890407"
      ]
     },
     "execution_count": 34,
     "metadata": {},
     "output_type": "execute_result"
    }
   ],
   "source": [
    "ds['2019-05-01']"
   ]
  },
  {
   "cell_type": "code",
   "execution_count": 35,
   "metadata": {},
   "outputs": [
    {
     "data": {
      "text/plain": [
       "2019-05-01   -0.172978\n",
       "2019-05-02   -0.208900\n",
       "2019-05-03   -0.253992\n",
       "2019-05-04   -1.345923\n",
       "2019-05-05    0.446289\n",
       "2019-05-06    1.581078\n",
       "2019-05-07   -1.675349\n",
       "2019-05-08    1.167537\n",
       "2019-05-09    0.091150\n",
       "2019-05-10    0.540887\n",
       "2019-05-11   -0.790960\n",
       "2019-05-12   -0.419958\n",
       "2019-05-13   -0.942920\n",
       "2019-05-14    0.266244\n",
       "2019-05-15    0.266832\n",
       "2019-05-16    1.761917\n",
       "2019-05-17   -0.332028\n",
       "2019-05-18   -0.544633\n",
       "2019-05-19    0.873388\n",
       "2019-05-20    0.937147\n",
       "2019-05-21    0.404847\n",
       "2019-05-22    0.089006\n",
       "2019-05-23   -0.622744\n",
       "2019-05-24    0.602965\n",
       "2019-05-25   -1.019080\n",
       "2019-05-26    0.011174\n",
       "2019-05-27    1.320115\n",
       "2019-05-28    0.919082\n",
       "2019-05-29    1.327074\n",
       "2019-05-30    0.132059\n",
       "2019-05-31    1.492528\n",
       "2019-06-01   -0.888241\n",
       "Freq: D, dtype: float64"
      ]
     },
     "execution_count": 35,
     "metadata": {},
     "output_type": "execute_result"
    }
   ],
   "source": [
    "ds['2019-05-01':]"
   ]
  },
  {
   "cell_type": "code",
   "execution_count": 36,
   "metadata": {},
   "outputs": [
    {
     "data": {
      "text/plain": [
       "2019-05-01   -0.172978\n",
       "2019-05-02   -0.208900\n",
       "2019-05-03   -0.253992\n",
       "2019-05-04   -1.345923\n",
       "2019-05-05    0.446289\n",
       "2019-05-06    1.581078\n",
       "2019-05-07   -1.675349\n",
       "2019-05-08    1.167537\n",
       "2019-05-09    0.091150\n",
       "2019-05-10    0.540887\n",
       "2019-05-11   -0.790960\n",
       "2019-05-12   -0.419958\n",
       "2019-05-13   -0.942920\n",
       "2019-05-14    0.266244\n",
       "2019-05-15    0.266832\n",
       "2019-05-16    1.761917\n",
       "2019-05-17   -0.332028\n",
       "2019-05-18   -0.544633\n",
       "2019-05-19    0.873388\n",
       "2019-05-20    0.937147\n",
       "2019-05-21    0.404847\n",
       "2019-05-22    0.089006\n",
       "2019-05-23   -0.622744\n",
       "2019-05-24    0.602965\n",
       "2019-05-25   -1.019080\n",
       "2019-05-26    0.011174\n",
       "2019-05-27    1.320115\n",
       "2019-05-28    0.919082\n",
       "2019-05-29    1.327074\n",
       "2019-05-30    0.132059\n",
       "2019-05-31    1.492528\n",
       "Freq: D, dtype: float64"
      ]
     },
     "execution_count": 36,
     "metadata": {},
     "output_type": "execute_result"
    }
   ],
   "source": [
    "ds['2019-05']"
   ]
  },
  {
   "cell_type": "code",
   "execution_count": 37,
   "metadata": {},
   "outputs": [
    {
     "data": {
      "text/plain": [
       "2019-04-01   -1.960343\n",
       "2019-04-02    0.255718\n",
       "2019-04-03   -0.339238\n",
       "2019-04-04    0.319220\n",
       "2019-04-05    0.646551\n",
       "                ...   \n",
       "2019-05-27    1.320115\n",
       "2019-05-28    0.919082\n",
       "2019-05-29    1.327074\n",
       "2019-05-30    0.132059\n",
       "2019-05-31    1.492528\n",
       "Freq: D, Length: 61, dtype: float64"
      ]
     },
     "execution_count": 37,
     "metadata": {},
     "output_type": "execute_result"
    }
   ],
   "source": [
    "ds['2019-04':'2019-05']"
   ]
  },
  {
   "cell_type": "code",
   "execution_count": 38,
   "metadata": {},
   "outputs": [
    {
     "data": {
      "text/plain": [
       "2019-01-01    2.372522\n",
       "2019-01-02    0.744837\n",
       "2019-01-03   -0.696702\n",
       "2019-01-04    1.076816\n",
       "2019-01-05    0.338946\n",
       "                ...   \n",
       "2019-05-28    0.919082\n",
       "2019-05-29    1.327074\n",
       "2019-05-30    0.132059\n",
       "2019-05-31    1.492528\n",
       "2019-06-01   -0.888241\n",
       "Freq: D, Length: 152, dtype: float64"
      ]
     },
     "execution_count": 38,
     "metadata": {},
     "output_type": "execute_result"
    }
   ],
   "source": [
    "ds['2019']"
   ]
  },
  {
   "cell_type": "markdown",
   "metadata": {},
   "source": [
    "---\n",
    "# 3、时间/日期 属性\n",
    "\n",
    "\n",
    "\n",
    "| 属性         | 描述                                                  |\n",
    "| ---------------- | ------------------------------------------------------------ |\n",
    "| year             | The year of the datetime                                     |\n",
    "| month            | The month of the datetime                                    |\n",
    "| day              | The days of the datetime                                     |\n",
    "| hour             | The hour of the datetime                                     |\n",
    "| minute           | The minutes of the datetime                                  |\n",
    "| second           | The seconds of the datetime                                  |\n",
    "| microsecond      | The microseconds of the datetime                             |\n",
    "| nanosecond       | The nanoseconds of the datetime                              |\n",
    "| date             | Returns datetime.date (does not contain timezone information) |\n",
    "| time             | Returns datetime.time (does not contain timezone information) |\n",
    "| timetz           | Returns datetime.time as local time with timezone information |\n",
    "| dayofyear        | The ordinal day of year                                      |\n",
    "| weekofyear       | The week ordinal of the year                                 |\n",
    "| week             | The week ordinal of the year                                 |\n",
    "| dayofweek        | The number of the day of the week with Monday=0, Sunday=6    |\n",
    "| weekday          | The number of the day of the week with Monday=0, Sunday=6    |\n",
    "| weekday_name     | The name of the day in a week (ex: Friday)                   |\n",
    "| quarter          | Quarter of the date: Jan-Mar = 1, Apr-Jun = 2, etc.          |\n",
    "| days_in_month    | The number of days in the month of the datetime              |\n",
    "| is_month_start   | Logical indicating if first day of month (defined by frequency) |\n",
    "| is_month_end     | Logical indicating if last day of month (defined by frequency) |\n",
    "| is_quarter_start | Logical indicating if first day of quarter (defined by frequency) |\n",
    "| is_quarter_end   | Logical indicating if last day of quarter (defined by frequency) |\n",
    "| is_year_start    | Logical indicating if first day of year (defined by frequency) |\n",
    "| is_year_end      | Logical indicating if last day of year (defined by frequency) |\n",
    "| is_leap_year     | Logical indicating if the date belongs to a leap year        |\n",
    "\n"
   ]
  },
  {
   "cell_type": "code",
   "execution_count": 41,
   "metadata": {},
   "outputs": [
    {
     "data": {
      "text/plain": [
       "Timestamp('2019-09-08 09:57:05.850356')"
      ]
     },
     "execution_count": 41,
     "metadata": {},
     "output_type": "execute_result"
    }
   ],
   "source": [
    "today = pd.to_datetime(datetime.datetime.now())\n",
    "today"
   ]
  },
  {
   "cell_type": "code",
   "execution_count": 43,
   "metadata": {},
   "outputs": [
    {
     "data": {
      "text/plain": [
       "2019"
      ]
     },
     "execution_count": 43,
     "metadata": {},
     "output_type": "execute_result"
    },
    {
     "data": {
      "text/plain": [
       "9"
      ]
     },
     "execution_count": 43,
     "metadata": {},
     "output_type": "execute_result"
    },
    {
     "data": {
      "text/plain": [
       "8"
      ]
     },
     "execution_count": 43,
     "metadata": {},
     "output_type": "execute_result"
    }
   ],
   "source": [
    "today.year\n",
    "today.month\n",
    "today.day"
   ]
  }
 ],
 "metadata": {
  "kernelspec": {
   "display_name": "Python 3",
   "language": "python",
   "name": "python3"
  },
  "language_info": {
   "codemirror_mode": {
    "name": "ipython",
    "version": 3
   },
   "file_extension": ".py",
   "mimetype": "text/x-python",
   "name": "python",
   "nbconvert_exporter": "python",
   "pygments_lexer": "ipython3",
   "version": "3.7.0"
  }
 },
 "nbformat": 4,
 "nbformat_minor": 2
}
