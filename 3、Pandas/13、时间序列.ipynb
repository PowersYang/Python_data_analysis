{
 "cells": [
  {
   "cell_type": "code",
   "execution_count": 1,
   "metadata": {},
   "outputs": [],
   "source": [
    "import numpy as np\n",
    "import pandas as pd"
   ]
  },
  {
   "cell_type": "code",
   "execution_count": 113,
   "metadata": {},
   "outputs": [
    {
     "data": {
      "text/plain": [
       "DatetimeIndex([       '2019-07-06 12:00:00',        '2019-01-09 00:00:00',\n",
       "                      '2019-01-01 00:00:00',        '2019-07-31 00:00:00',\n",
       "                      '2018-01-01 00:00:00', '2019-09-01 10:29:35.118640'],\n",
       "              dtype='datetime64[ns]', freq=None)"
      ]
     },
     "execution_count": 113,
     "metadata": {},
     "output_type": "execute_result"
    }
   ],
   "source": [
    "# pandas中的时间解析是很灵活的\n",
    "datestrs = ['2019-07-06 12:00:00', '1/09/2019', '20190101', 'Jul 31, 2019', np.datetime64('2018-01-01'), datetime.datetime.now()]\n",
    "pd.to_datetime(datestrs)"
   ]
  },
  {
   "cell_type": "markdown",
   "metadata": {},
   "source": [
    "---\n",
    "在pandas的时间序列中需要明确几个概念：\n",
    "\n",
    "| 概念       | 标量类  | 数组类      | pandas数据类型                   | 创建方法                    |\n",
    "| ------------ | ---------- | -------------- | ------------------------------------ | ------------------------------- |\n",
    "| Date times   | Timestamp  | DatetimeIndex  | datetime64[ns] or datetime64[ns, tz] | to_datetime or date_range       |\n",
    "| Time deltas  | Timedelta  | TimedeltaIndex | timedelta64[ns]                      | to_timedelta or timedelta_range |\n",
    "| Time spans   | Period     | PeriodIndex    | period[freq]                         | Period or period_range          |\n",
    "| Date offsets | DateOffset | None           | None                                 | DateOffset                      |\n",
    "\n",
    "\n",
    "- Date times：具有时区支持的特定日期和时间。与标准库中的datetime.datetime类似。\n",
    "\n",
    "- Time deltas：绝对持续时间。与标准库中的datetime.timedelta类似。\n",
    "\n",
    "- Time spans：由时间点及其相关频率定义的时间跨度。\n",
    "\n",
    "- Date offsets：尊重日历算术的相对持续时间。 与dateutil包中的dateutil.relativedelta.relativedelta类似。"
   ]
  },
  {
   "cell_type": "markdown",
   "metadata": {},
   "source": [
    "---\n",
    "# 1、Date times\n",
    "\n",
    "## 1.1 to_datetime\n",
    "`pd.to_datetime(arg, errors='raise', dayfirst=False, yearfirst=False, utc=None, box=True, format=None, exact=True, unit=None, infer_datetime_format=False, origin='unix', cache=True)`\n",
    "\n",
    "- arg：integer, float, string, datetime, list, tuple, 1-d array, Series or DataFrame/dict-like\n",
    "- errors：{'ignore', 'raise', 'coerce'}, 默认为 'raise'\n",
    "    - 如果为ignore，遇到无法解析的字符串会返回原字符串\n",
    "    - 如果为raise，遇到无法解析的字符串会抛出异常\n",
    "    - 如果为coerce，遇到无法解析的字符串会转为NaT\n",
    "- dayfirst：指定解析顺序（如果 arg 参数为字符串或类似于列表的对象）。如果为True，10/11/12 会被解析为 2012/11/10\n",
    "- yearfirst：指定解析顺序（如果 arg 参数为字符串或类似于列表的对象）。如果为True，10/11/12 会被解析为 2010/11/12\n",
    "    - 如果 dayfirst 和 yearfirst 都为True的话，yearfirst优先级高（默认）\n",
    "- format：指定解析格式。\n",
    "    - pd.to_datetime('12-2010-10 00:00', format='%d-%Y-%m %H:%M') 会被解析为 2010-10-12 00:00:00\n",
    "    \n",
    "返回类型依赖于输入：\n",
    "- 输入标量，返回Timestap\n",
    "- 输入数组，返回DatetimeIndex\n",
    "- 输入一个Series/DataFrame，返回Series"
   ]
  },
  {
   "cell_type": "code",
   "execution_count": 110,
   "metadata": {},
   "outputs": [
    {
     "data": {
      "text/plain": [
       "Timestamp('2010-10-12 00:00:00')"
      ]
     },
     "execution_count": 110,
     "metadata": {},
     "output_type": "execute_result"
    }
   ],
   "source": []
  },
  {
   "cell_type": "code",
   "execution_count": 84,
   "metadata": {},
   "outputs": [
    {
     "data": {
      "text/plain": [
       "Timestamp('2019-01-01 00:00:00')"
      ]
     },
     "execution_count": 84,
     "metadata": {},
     "output_type": "execute_result"
    }
   ],
   "source": [
    "# 输入标量，返回Timestap\n",
    "pd.to_datetime('2019')"
   ]
  },
  {
   "cell_type": "code",
   "execution_count": 86,
   "metadata": {},
   "outputs": [
    {
     "data": {
      "text/plain": [
       "DatetimeIndex(['2019-01-01', '2019-02-01', '2019-03-01'], dtype='datetime64[ns]', freq=None)"
      ]
     },
     "execution_count": 86,
     "metadata": {},
     "output_type": "execute_result"
    }
   ],
   "source": [
    "# 输入数组，返回DatetimeIndex\n",
    "pd.to_datetime(['20190101', '20190201', '20190301'])"
   ]
  },
  {
   "cell_type": "code",
   "execution_count": 87,
   "metadata": {},
   "outputs": [
    {
     "data": {
      "text/plain": [
       "0   2019-01-01\n",
       "1   2019-02-01\n",
       "2   2019-03-01\n",
       "dtype: datetime64[ns]"
      ]
     },
     "execution_count": 87,
     "metadata": {},
     "output_type": "execute_result"
    }
   ],
   "source": [
    "# 输入一个Series，返回Series\n",
    "s = pd.Series(['20190101', '20190201', '20190301'])\n",
    "pd.to_datetime(s)"
   ]
  },
  {
   "cell_type": "markdown",
   "metadata": {},
   "source": [
    "也可以通过DataFrame来创建时间序列，但是需要通过列名称来指定时间单位：\n",
    "\n",
    " `year`, `month`, `day`是必选列名\n",
    " \n",
    " `hour` , `minute`, `second`, `millisecond`, `microsecond`, `nanosecond`是可选列名"
   ]
  },
  {
   "cell_type": "code",
   "execution_count": 106,
   "metadata": {},
   "outputs": [
    {
     "data": {
      "text/plain": [
       "0   2018-03-06 03:10:00\n",
       "1   2019-04-08 01:20:00\n",
       "dtype: datetime64[ns]"
      ]
     },
     "execution_count": 106,
     "metadata": {},
     "output_type": "execute_result"
    },
    {
     "data": {
      "text/plain": [
       "0   2018-03-06\n",
       "1   2019-04-08\n",
       "dtype: datetime64[ns]"
      ]
     },
     "execution_count": 106,
     "metadata": {},
     "output_type": "execute_result"
    }
   ],
   "source": [
    "# 输入一个DataFrame，返回一个Series\n",
    "df = pd.DataFrame({'year': [2018, 2019],'month': [3, 4], 'day': [6, 8],'hour': [3, 1], 'minute': [10, 20]})\n",
    "pd.to_datetime(df)\n",
    "\n",
    "pd.to_datetime(df[['year', 'month', 'day']])"
   ]
  },
  {
   "cell_type": "markdown",
   "metadata": {},
   "source": [
    "---\n",
    "## 1.2 date_range\n",
    "`pd.date_range(start=None, end=None, periods=None, freq=None, tz=None, normalize=False, name=None, closed=None, **kwargs)`\n",
    "\n",
    "生成固定频率的`DatetimeIndex`\n",
    "\n",
    "- start：string或datetime-like，默认值是None，表示日期的起点\n",
    "- end：string或datetime-like，默认值是None，表示日期的终点\n",
    "- periods：integer或None，默认值是None，表示你要从这个函数产生多少个日期索引值；如果是None的话，那么start和end必须不能为None\n",
    "- freq：string或DateOffset，默认值是’D’，表示以自然日为单位，这个参数用来指定计时单位，比如’5H’表示每隔5个小时计算一次。在[这里](https://pandas.pydata.org/pandas-docs/stable/user_guide/timeseries.html#timeseries-offset-aliases)可以看到所有可选值。\n",
    "    - Y 表示年\n",
    "    - M 表示月\n",
    "    - D 表示日\n",
    "    - W 表示周\n",
    "    - H 表示时\n",
    "    - T 表示分\n",
    "    - S 表示秒\n",
    "    - B 表示工作日\n",
    "- tz：string或None，表示时区，例如：’Asia/Hong_Kong’\n",
    "- normalize：bool，默认值为False，如果为True的话，那么在产生时间索引值之前会先把start和end都转化为当日的午夜0点\n",
    "- name：str，默认值为None，给返回的时间索引指定一个名字\n",
    "- closed：string或者None，默认值为None，表示start和end这个区间端点是否包含在区间内，可以有三个值，’left’表示左闭右开区间，’right’表示左开右闭区间，None表示两边都是闭区间\n",
    "\n",
    "\n",
    "`start`, `end`, `periods`, `freq`这四个参数至少需要指定三个，其中`freq`默认为D"
   ]
  },
  {
   "cell_type": "code",
   "execution_count": 96,
   "metadata": {},
   "outputs": [
    {
     "data": {
      "text/plain": [
       "DatetimeIndex(['2019-01-01 00:00:00', '2019-01-01 00:01:00',\n",
       "               '2019-01-01 00:02:00'],\n",
       "              dtype='datetime64[ns]', freq='T')"
      ]
     },
     "execution_count": 96,
     "metadata": {},
     "output_type": "execute_result"
    }
   ],
   "source": [
    "pd.date_range('2019-01-01', periods=3, freq='T') # freq 默认为D，可以写成3D，表示间隔为3天"
   ]
  },
  {
   "cell_type": "code",
   "execution_count": 98,
   "metadata": {},
   "outputs": [
    {
     "data": {
      "text/plain": [
       "DatetimeIndex(['2019-01-01 00:00:00', '2019-01-01 00:10:00',\n",
       "               '2019-01-01 00:20:00', '2019-01-01 00:30:00'],\n",
       "              dtype='datetime64[ns]', freq='10T')"
      ]
     },
     "execution_count": 98,
     "metadata": {},
     "output_type": "execute_result"
    }
   ],
   "source": [
    "pd.date_range('20190101', periods=4, freq='10T')"
   ]
  },
  {
   "cell_type": "markdown",
   "metadata": {},
   "source": [
    "---\n",
    "## 1.3 bdate_range\n",
    "`pd.bdate_range(start=None, end=None, periods=None, freq='B', tz=None, normalize=True, name=None, weekmask=None, holidays=None, closed=None, **kwargs)`\n",
    "\n",
    "按照工作日计算"
   ]
  },
  {
   "cell_type": "code",
   "execution_count": 111,
   "metadata": {},
   "outputs": [
    {
     "data": {
      "text/plain": [
       "DatetimeIndex(['2018-01-01', '2018-01-02', '2018-01-03', '2018-01-04',\n",
       "               '2018-01-05', '2018-01-08', '2018-01-09', '2018-01-10',\n",
       "               '2018-01-11', '2018-01-12',\n",
       "               ...\n",
       "               '2018-12-19', '2018-12-20', '2018-12-21', '2018-12-24',\n",
       "               '2018-12-25', '2018-12-26', '2018-12-27', '2018-12-28',\n",
       "               '2018-12-31', '2019-01-01'],\n",
       "              dtype='datetime64[ns]', length=262, freq='B')"
      ]
     },
     "execution_count": 111,
     "metadata": {},
     "output_type": "execute_result"
    }
   ],
   "source": [
    "pd.bdate_range(start='2018-01-01', end='2019-01-01')"
   ]
  },
  {
   "cell_type": "code",
   "execution_count": 112,
   "metadata": {},
   "outputs": [
    {
     "data": {
      "text/plain": [
       "DatetimeIndex(['2018-01-01', '2018-01-02', '2018-01-03', '2018-01-04',\n",
       "               '2018-01-05', '2018-01-06', '2018-01-07', '2018-01-08',\n",
       "               '2018-01-09', '2018-01-10',\n",
       "               ...\n",
       "               '2018-12-23', '2018-12-24', '2018-12-25', '2018-12-26',\n",
       "               '2018-12-27', '2018-12-28', '2018-12-29', '2018-12-30',\n",
       "               '2018-12-31', '2019-01-01'],\n",
       "              dtype='datetime64[ns]', length=366, freq='D')"
      ]
     },
     "execution_count": 112,
     "metadata": {},
     "output_type": "execute_result"
    }
   ],
   "source": [
    "pd.date_range(start='2018-01-01', end='2019-01-01')"
   ]
  },
  {
   "cell_type": "code",
   "execution_count": 114,
   "metadata": {},
   "outputs": [
    {
     "data": {
      "text/plain": [
       "\u001b[0;31mSignature:\u001b[0m \u001b[0mpd\u001b[0m\u001b[0;34m.\u001b[0m\u001b[0mdate_range\u001b[0m\u001b[0;34m(\u001b[0m\u001b[0mstart\u001b[0m\u001b[0;34m=\u001b[0m\u001b[0;32mNone\u001b[0m\u001b[0;34m,\u001b[0m \u001b[0mend\u001b[0m\u001b[0;34m=\u001b[0m\u001b[0;32mNone\u001b[0m\u001b[0;34m,\u001b[0m \u001b[0mperiods\u001b[0m\u001b[0;34m=\u001b[0m\u001b[0;32mNone\u001b[0m\u001b[0;34m,\u001b[0m \u001b[0mfreq\u001b[0m\u001b[0;34m=\u001b[0m\u001b[0;32mNone\u001b[0m\u001b[0;34m,\u001b[0m \u001b[0mtz\u001b[0m\u001b[0;34m=\u001b[0m\u001b[0;32mNone\u001b[0m\u001b[0;34m,\u001b[0m \u001b[0mnormalize\u001b[0m\u001b[0;34m=\u001b[0m\u001b[0;32mFalse\u001b[0m\u001b[0;34m,\u001b[0m \u001b[0mname\u001b[0m\u001b[0;34m=\u001b[0m\u001b[0;32mNone\u001b[0m\u001b[0;34m,\u001b[0m \u001b[0mclosed\u001b[0m\u001b[0;34m=\u001b[0m\u001b[0;32mNone\u001b[0m\u001b[0;34m,\u001b[0m \u001b[0;34m**\u001b[0m\u001b[0mkwargs\u001b[0m\u001b[0;34m)\u001b[0m\u001b[0;34m\u001b[0m\u001b[0m\n",
       "\u001b[0;31mDocstring:\u001b[0m\n",
       "Return a fixed frequency DatetimeIndex.\n",
       "\n",
       "Parameters\n",
       "----------\n",
       "start : str or datetime-like, optional\n",
       "    Left bound for generating dates.\n",
       "end : str or datetime-like, optional\n",
       "    Right bound for generating dates.\n",
       "periods : integer, optional\n",
       "    Number of periods to generate.\n",
       "freq : str or DateOffset, default 'D'\n",
       "    Frequency strings can have multiples, e.g. '5H'. See\n",
       "    :ref:`here <timeseries.offset_aliases>` for a list of\n",
       "    frequency aliases.\n",
       "tz : str or tzinfo, optional\n",
       "    Time zone name for returning localized DatetimeIndex, for example\n",
       "    'Asia/Hong_Kong'. By default, the resulting DatetimeIndex is\n",
       "    timezone-naive.\n",
       "normalize : bool, default False\n",
       "    Normalize start/end dates to midnight before generating date range.\n",
       "name : str, default None\n",
       "    Name of the resulting DatetimeIndex.\n",
       "closed : {None, 'left', 'right'}, optional\n",
       "    Make the interval closed with respect to the given frequency to\n",
       "    the 'left', 'right', or both sides (None, the default).\n",
       "**kwargs\n",
       "    For compatibility. Has no effect on the result.\n",
       "\n",
       "Returns\n",
       "-------\n",
       "rng : DatetimeIndex\n",
       "\n",
       "See Also\n",
       "--------\n",
       "DatetimeIndex : An immutable container for datetimes.\n",
       "timedelta_range : Return a fixed frequency TimedeltaIndex.\n",
       "period_range : Return a fixed frequency PeriodIndex.\n",
       "interval_range : Return a fixed frequency IntervalIndex.\n",
       "\n",
       "Notes\n",
       "-----\n",
       "Of the four parameters ``start``, ``end``, ``periods``, and ``freq``,\n",
       "exactly three must be specified. If ``freq`` is omitted, the resulting\n",
       "``DatetimeIndex`` will have ``periods`` linearly spaced elements between\n",
       "``start`` and ``end`` (closed on both sides).\n",
       "\n",
       "To learn more about the frequency strings, please see `this link\n",
       "<http://pandas.pydata.org/pandas-docs/stable/user_guide/timeseries.html#offset-aliases>`__.\n",
       "\n",
       "Examples\n",
       "--------\n",
       "**Specifying the values**\n",
       "\n",
       "The next four examples generate the same `DatetimeIndex`, but vary\n",
       "the combination of `start`, `end` and `periods`.\n",
       "\n",
       "Specify `start` and `end`, with the default daily frequency.\n",
       "\n",
       ">>> pd.date_range(start='1/1/2018', end='1/08/2018')\n",
       "DatetimeIndex(['2018-01-01', '2018-01-02', '2018-01-03', '2018-01-04',\n",
       "               '2018-01-05', '2018-01-06', '2018-01-07', '2018-01-08'],\n",
       "              dtype='datetime64[ns]', freq='D')\n",
       "\n",
       "Specify `start` and `periods`, the number of periods (days).\n",
       "\n",
       ">>> pd.date_range(start='1/1/2018', periods=8)\n",
       "DatetimeIndex(['2018-01-01', '2018-01-02', '2018-01-03', '2018-01-04',\n",
       "               '2018-01-05', '2018-01-06', '2018-01-07', '2018-01-08'],\n",
       "              dtype='datetime64[ns]', freq='D')\n",
       "\n",
       "Specify `end` and `periods`, the number of periods (days).\n",
       "\n",
       ">>> pd.date_range(end='1/1/2018', periods=8)\n",
       "DatetimeIndex(['2017-12-25', '2017-12-26', '2017-12-27', '2017-12-28',\n",
       "               '2017-12-29', '2017-12-30', '2017-12-31', '2018-01-01'],\n",
       "              dtype='datetime64[ns]', freq='D')\n",
       "\n",
       "Specify `start`, `end`, and `periods`; the frequency is generated\n",
       "automatically (linearly spaced).\n",
       "\n",
       ">>> pd.date_range(start='2018-04-24', end='2018-04-27', periods=3)\n",
       "DatetimeIndex(['2018-04-24 00:00:00', '2018-04-25 12:00:00',\n",
       "               '2018-04-27 00:00:00'],\n",
       "              dtype='datetime64[ns]', freq=None)\n",
       "\n",
       "**Other Parameters**\n",
       "\n",
       "Changed the `freq` (frequency) to ``'M'`` (month end frequency).\n",
       "\n",
       ">>> pd.date_range(start='1/1/2018', periods=5, freq='M')\n",
       "DatetimeIndex(['2018-01-31', '2018-02-28', '2018-03-31', '2018-04-30',\n",
       "               '2018-05-31'],\n",
       "              dtype='datetime64[ns]', freq='M')\n",
       "\n",
       "Multiples are allowed\n",
       "\n",
       ">>> pd.date_range(start='1/1/2018', periods=5, freq='3M')\n",
       "DatetimeIndex(['2018-01-31', '2018-04-30', '2018-07-31', '2018-10-31',\n",
       "               '2019-01-31'],\n",
       "              dtype='datetime64[ns]', freq='3M')\n",
       "\n",
       "`freq` can also be specified as an Offset object.\n",
       "\n",
       ">>> pd.date_range(start='1/1/2018', periods=5, freq=pd.offsets.MonthEnd(3))\n",
       "DatetimeIndex(['2018-01-31', '2018-04-30', '2018-07-31', '2018-10-31',\n",
       "               '2019-01-31'],\n",
       "              dtype='datetime64[ns]', freq='3M')\n",
       "\n",
       "Specify `tz` to set the timezone.\n",
       "\n",
       ">>> pd.date_range(start='1/1/2018', periods=5, tz='Asia/Tokyo')\n",
       "DatetimeIndex(['2018-01-01 00:00:00+09:00', '2018-01-02 00:00:00+09:00',\n",
       "               '2018-01-03 00:00:00+09:00', '2018-01-04 00:00:00+09:00',\n",
       "               '2018-01-05 00:00:00+09:00'],\n",
       "              dtype='datetime64[ns, Asia/Tokyo]', freq='D')\n",
       "\n",
       "`closed` controls whether to include `start` and `end` that are on the\n",
       "boundary. The default includes boundary points on either end.\n",
       "\n",
       ">>> pd.date_range(start='2017-01-01', end='2017-01-04', closed=None)\n",
       "DatetimeIndex(['2017-01-01', '2017-01-02', '2017-01-03', '2017-01-04'],\n",
       "              dtype='datetime64[ns]', freq='D')\n",
       "\n",
       "Use ``closed='left'`` to exclude `end` if it falls on the boundary.\n",
       "\n",
       ">>> pd.date_range(start='2017-01-01', end='2017-01-04', closed='left')\n",
       "DatetimeIndex(['2017-01-01', '2017-01-02', '2017-01-03'],\n",
       "              dtype='datetime64[ns]', freq='D')\n",
       "\n",
       "Use ``closed='right'`` to exclude `start` if it falls on the boundary.\n",
       "\n",
       ">>> pd.date_range(start='2017-01-01', end='2017-01-04', closed='right')\n",
       "DatetimeIndex(['2017-01-02', '2017-01-03', '2017-01-04'],\n",
       "              dtype='datetime64[ns]', freq='D')\n",
       "\u001b[0;31mFile:\u001b[0m      /anaconda3/lib/python3.7/site-packages/pandas/core/indexes/datetimes.py\n",
       "\u001b[0;31mType:\u001b[0m      function\n"
      ]
     },
     "metadata": {},
     "output_type": "display_data"
    }
   ],
   "source": [
    "pd.date_range?"
   ]
  },
  {
   "cell_type": "code",
   "execution_count": 60,
   "metadata": {},
   "outputs": [
    {
     "data": {
      "text/plain": [
       "'Tuesday'"
      ]
     },
     "execution_count": 60,
     "metadata": {},
     "output_type": "execute_result"
    },
    {
     "data": {
      "text/plain": [
       "Timedelta('1 days 00:00:00')"
      ]
     },
     "execution_count": 60,
     "metadata": {},
     "output_type": "execute_result"
    }
   ],
   "source": [
    "# 其它时间序列相关的函数\n",
    "tt = pd.Timestamp('20190101')\n",
    "tt.day_name()\n",
    "\n",
    "pd.Timedelta('1 d')\n",
    "\n",
    "\n",
    "# 缺失值用pd.NaT表示"
   ]
  }
 ],
 "metadata": {
  "kernelspec": {
   "display_name": "Python 3",
   "language": "python",
   "name": "python3"
  },
  "language_info": {
   "codemirror_mode": {
    "name": "ipython",
    "version": 3
   },
   "file_extension": ".py",
   "mimetype": "text/x-python",
   "name": "python",
   "nbconvert_exporter": "python",
   "pygments_lexer": "ipython3",
   "version": "3.7.0"
  }
 },
 "nbformat": 4,
 "nbformat_minor": 2
}
