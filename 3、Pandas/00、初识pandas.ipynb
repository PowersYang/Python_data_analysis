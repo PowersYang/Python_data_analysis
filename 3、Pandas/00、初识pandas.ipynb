{
 "cells": [
  {
   "cell_type": "markdown",
   "metadata": {},
   "source": [
    "### **什么是Pandas？**\n",
    "> Pandas是一个开源的，BSD许可的库，为Python编程语言提供高性能，易于使用的数据结构和数据分析工具。\n",
    "\n",
    "> 利用Python进行数据分析的首选库，它含有使数据清洗和分析工作变得更快更简单的数据结构和操作工具。\n",
    "\n",
    "### **和NumPy的区别？**\n",
    "> Pandas是专门为处理表格和混杂数据设计的。而NumPy更适合处理统一的数值数组数据。"
   ]
  },
  {
   "cell_type": "markdown",
   "metadata": {},
   "source": [
    "### **数据结构介绍**\n",
    "Pandas中的主要数据结构有两个：`Series`和`DataFrame`\n",
    "\n",
    "> - 其中Series是一种类似于一维数组（Python中的list）的对象，由一组数据和一组索引（下标）两部分组成。Series可以保存任何数据类型。\n",
    "- DataFrame是一个二维的表格型数据结构，可以把它想象成是一个Excel表格来理解，既有行索引，也有列索引。其中每列可以是不同的值类型。\n",
    "\n",
    "除了Series和DataFrame，Index也是比较常见的数据结构，虽然没有前两者那么重要，但也是必不可少的。"
   ]
  }
 ],
 "metadata": {
  "kernelspec": {
   "display_name": "Python 3",
   "language": "python",
   "name": "python3"
  },
  "language_info": {
   "codemirror_mode": {
    "name": "ipython",
    "version": 3
   },
   "file_extension": ".py",
   "mimetype": "text/x-python",
   "name": "python",
   "nbconvert_exporter": "python",
   "pygments_lexer": "ipython3",
   "version": "3.7.3"
  }
 },
 "nbformat": 4,
 "nbformat_minor": 4
}
