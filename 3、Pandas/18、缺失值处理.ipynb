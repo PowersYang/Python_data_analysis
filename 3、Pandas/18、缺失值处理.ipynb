{
 "cells": [
  {
   "cell_type": "markdown",
   "metadata": {},
   "source": [
    "- pandas中的缺失值用NaN（Not a Number）来表示\n",
    "\n",
    "- 如果要显式地使用NaN值，可以使用`numpy.nan`来获取\n",
    "\n",
    "- Python内置的None值在pandas中也是NaN\n",
    "\n",
    "- 处理缺失值的主要方法：\n",
    "<table border=\"1\">\n",
    "    <tr><th>方法</th><th style=\"width:50%; \">说明</th></tr>\n",
    "    <tr><td>dropna</td><td>根据各标签值中是否存在却只出具对轴变迁进行过滤，可通过阈值调节对缺失值的容忍度</td></tr>\n",
    "    <tr><td>fillna</td><td>用指定值或插值方法（如ffill或bfill）填充缺失数据</td></tr>\n",
    "    <tr><td>isnull</td><td>返回一个含有布尔值的对象，这些布尔值表示哪些值是NaN</td></tr>\n",
    "    <tr><td>notnull</td><td>返回一个含有布尔值的对象，这些布尔值表示哪些值不是NaN</td></tr>\n",
    "</table>"
   ]
  },
  {
   "cell_type": "markdown",
   "metadata": {},
   "source": [
    "data.dropna()  # 等价于data[data.notnull]\n",
    "\n",
    "df中dropna()默认删除任何含有缺失值的行，传入how='all'将只删除全为NaN的那些行\n",
    "\n",
    "通过字典调用fillna()，就可以对不同的列填充不同的值\n",
    "\n",
    "df.fillna({1: 0.5, 2: -1})"
   ]
  },
  {
   "cell_type": "code",
   "execution_count": null,
   "metadata": {},
   "outputs": [],
   "source": []
  }
 ],
 "metadata": {
  "kernelspec": {
   "display_name": "Python 3",
   "language": "python",
   "name": "python3"
  },
  "language_info": {
   "codemirror_mode": {
    "name": "ipython",
    "version": 3
   },
   "file_extension": ".py",
   "mimetype": "text/x-python",
   "name": "python",
   "nbconvert_exporter": "python",
   "pygments_lexer": "ipython3",
   "version": "3.7.0"
  }
 },
 "nbformat": 4,
 "nbformat_minor": 2
}
