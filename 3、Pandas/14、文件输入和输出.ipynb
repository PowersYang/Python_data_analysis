{
 "cells": [
  {
   "cell_type": "code",
   "execution_count": 1,
   "metadata": {},
   "outputs": [],
   "source": [
    "import pandas as pd"
   ]
  },
  {
   "cell_type": "markdown",
   "metadata": {},
   "source": [
    "# 读写文本数据\n",
    "\n",
    "<table border=\"1\" style=\"text-align:left;\">\n",
    "        <tr><th>Reader方法</th><th>Writer方法</th><th style=\"width:50%; \">说明</th></tr>\n",
    "        <tr><td>read_csv</td><td>to_csv</td><td>加载（写入）文件、URL、文件型对象中带分隔符的数据。默认分隔符为逗号</td></tr>\n",
    "        <tr><td>read_excel</td><td>to_excel</td><td>加载（写入）Excel表格上数据</td></tr>\n",
    "        <tr><td>read_html</td><td>to_html</td><td>加载（写入）HTML文档中的所有表格</td></tr>\n",
    "        <tr><td>read_json</td><td>to_json</td><td>加载（写入）JSON字符串中的数据</td></tr>\n",
    "        <tr><td>read_sql</td><td>to_sql</td><td> 和SQL数据库交互（会在pandas sql小节中详细介绍）</td></tr>\n",
    "        <tr><td>read_hdf</td><td>to_hdf</td><td>加载（写入）HDF5文件</td></tr>\n",
    "        <tr><td>read_pickle</td><td>to_pickle</td><td>加载（写入）Python pickle格式中存储的对象</td></tr>\n",
    "        <tr><td>read_stata</td><td>to_stata</td><td>加载（写入）Stata文件格式的数据集</td></tr>\n",
    "        <tr><td>read_feather</td><td>to_feather</td><td>加载（写入）Feather二进制文件格式</td></tr>\n",
    "        <tr><td>read_parquet</td><td>to_parquet</td><td>从文件加载（写入）一个parquet对象</td></tr>\n",
    "        <tr><td>read_gbq</td><td>to_gbq</td><td>加载（写入）Google BigQuery数据</td></tr>\n",
    "        <tr><td>read_clipboard</td><td>to_clipboard</td><td>读取剪贴板中的数据，可以看做read_table的剪贴板版。再将网页转换为表格时很有用</td></tr>\n",
    "        <tr><td>read_msgpack</td><td>to_msgpack</td><td>加载（写入）二进制编码的pandas数据</td></tr>\n",
    "        <tr><td>read_table</td><td> --- </td><td>加载文件、URL、文件型对象中带分隔符的数据。默认分隔符为制表符（‘\\t’）</td></tr>\n",
    "        <tr><td>read_fwf</td><td> --- </td><td>读取指定宽列格式数据（也就是说没有分隔符）</td></tr>\n",
    "        <tr><td>read_sas</td><td> --- </td><td>加载存储于SAS系统自定义存储格式的SAS数据集</td></tr>\n",
    "    </table>"
   ]
  },
  {
   "cell_type": "markdown",
   "metadata": {},
   "source": [
    "read_csv()\n",
    "- ilepath_or_buffer：文件路径或者其它对象\n",
    "- sep：分隔符，默认为英文逗号\n",
    "- header：指定第几行作为列名(忽略注解行)\n",
    "- names：指定列名，如果文件中不包含header的行，应该显性表示header=None\n",
    "- dtype：指定数据类型\n",
    "- nrows：读取的行数"
   ]
  },
  {
   "cell_type": "code",
   "execution_count": null,
   "metadata": {},
   "outputs": [],
   "source": [
    "pd.read_csv()"
   ]
  }
 ],
 "metadata": {
  "kernelspec": {
   "display_name": "Python 3",
   "language": "python",
   "name": "python3"
  },
  "language_info": {
   "codemirror_mode": {
    "name": "ipython",
    "version": 3
   },
   "file_extension": ".py",
   "mimetype": "text/x-python",
   "name": "python",
   "nbconvert_exporter": "python",
   "pygments_lexer": "ipython3",
   "version": "3.7.0"
  }
 },
 "nbformat": 4,
 "nbformat_minor": 2
}
